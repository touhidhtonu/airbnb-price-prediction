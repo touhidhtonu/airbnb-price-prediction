{
  "nbformat": 4,
  "nbformat_minor": 0,
  "metadata": {
    "colab": {
      "provenance": []
    },
    "kernelspec": {
      "name": "python3",
      "display_name": "Python 3"
    },
    "language_info": {
      "name": "python"
    }
  },
  "cells": [
    {
      "cell_type": "markdown",
      "source": [
        "# Upload the airbnb dataset"
      ],
      "metadata": {
        "id": "deHCMvkFU4xf"
      }
    },
    {
      "cell_type": "code",
      "source": [
        "from google.colab import files\n",
        "uploaded = files.upload()\n"
      ],
      "metadata": {
        "id": "IT7RVHjOUhFm"
      },
      "execution_count": null,
      "outputs": []
    },
    {
      "cell_type": "markdown",
      "source": [
        "# 1. Understand the Dataset:"
      ],
      "metadata": {
        "id": "DWbk9-eTVTuX"
      }
    },
    {
      "cell_type": "markdown",
      "source": [
        "**Load and inspect the dataset to understand its structure.**"
      ],
      "metadata": {
        "id": "nurHo2PMdLlP"
      }
    },
    {
      "cell_type": "code",
      "source": [
        "#Load the csv file\n",
        "import pandas as pd\n",
        "df = pd.read_csv('/content/airbnb.csv')"
      ],
      "metadata": {
        "id": "cZl4Ct1mQTTP"
      },
      "execution_count": null,
      "outputs": []
    },
    {
      "cell_type": "markdown",
      "source": [
        "**Examine records in the dataset.**"
      ],
      "metadata": {
        "id": "XzzkZllOdi2n"
      }
    },
    {
      "cell_type": "code",
      "source": [
        "# Display the first few rows\n",
        "df.head()"
      ],
      "metadata": {
        "colab": {
          "base_uri": "https://localhost:8080/",
          "height": 551
        },
        "id": "IT9oqLlHVt2H",
        "outputId": "b0bdd84b-2577-465c-ce27-7d18fa81279e"
      },
      "execution_count": null,
      "outputs": [
        {
          "output_type": "execute_result",
          "data": {
            "text/plain": [
              "   Unnamed: 0        id                                               name  \\\n",
              "0           0  49849504                                     Perla bungalov   \n",
              "1           1  50891766  Authentic Beach Architect Sheltered Villa with...   \n",
              "2           2  50699164                                  cottages sataplia   \n",
              "3           3  49871422                        Sapanca Breathable Bungalow   \n",
              "4           4  51245886                                      Bungalov Ev 2   \n",
              "\n",
              "  rating reviews    host_name      host_id                   address  \\\n",
              "0   4.71      64    Mehmetcan  357334205.0  Kartepe, Kocaeli, Turkey   \n",
              "1    New       0        Fatih  386223873.0      Kaş, Antalya, Turkey   \n",
              "2   4.85      68       Giorgi  409690853.0          Imereti, Georgia   \n",
              "3    5.0      13        Melih  401873242.0  Sapanca, Sakarya, Turkey   \n",
              "4    New       0  Arp Sapanca  414884116.0  Sapanca, Sakarya, Turkey   \n",
              "\n",
              "                                 features  \\\n",
              "0    2 guests,2 bedrooms,1 bed,1 bathroom   \n",
              "1  4 guests,2 bedrooms,2 beds,2 bathrooms   \n",
              "2    4 guests,1 bedroom,3 beds,1 bathroom   \n",
              "3    4 guests,1 bedroom,2 beds,1 bathroom   \n",
              "4     2 guests,1 bedroom,1 bed,1 bathroom   \n",
              "\n",
              "                                           amenities  ...  price   country  \\\n",
              "0  Mountain view,Valley view,Lake access,Kitchen,...  ...   8078    Turkey   \n",
              "1  Kitchen,Wifi,Dedicated workspace,Free parking ...  ...   4665    Turkey   \n",
              "2  Mountain view,Kitchen,Wifi,Dedicated workspace...  ...   5991   Georgia   \n",
              "3  Mountain view,Valley view,Kitchen,Wifi,Free pa...  ...  11339    Turkey   \n",
              "4  Kitchen,Wifi,Free parking on premises,TV,Air c...  ...   6673    Turkey   \n",
              "\n",
              "  bathrooms  beds guests  toiles  bedrooms  studios              checkin  \\\n",
              "0         1     1      2       0         2        0             Flexible   \n",
              "1         2     2      4       0         2        0   4 00 pm - 11 00 pm   \n",
              "2         1     3      4       0         1        0        After 1 00 pm   \n",
              "3         1     2      4       0         1        0        After 2 00 pm   \n",
              "4         1     1      2       0         1        0        After 2 00 pm   \n",
              "\n",
              "    checkout  \n",
              "0   12 00 pm  \n",
              "1   10 00 am  \n",
              "2   12 00 pm  \n",
              "3   12 00 pm  \n",
              "4   12 00 pm  \n",
              "\n",
              "[5 rows x 23 columns]"
            ],
            "text/html": [
              "\n",
              "  <div id=\"df-89387a56-102d-49f3-8706-41187f226e54\" class=\"colab-df-container\">\n",
              "    <div>\n",
              "<style scoped>\n",
              "    .dataframe tbody tr th:only-of-type {\n",
              "        vertical-align: middle;\n",
              "    }\n",
              "\n",
              "    .dataframe tbody tr th {\n",
              "        vertical-align: top;\n",
              "    }\n",
              "\n",
              "    .dataframe thead th {\n",
              "        text-align: right;\n",
              "    }\n",
              "</style>\n",
              "<table border=\"1\" class=\"dataframe\">\n",
              "  <thead>\n",
              "    <tr style=\"text-align: right;\">\n",
              "      <th></th>\n",
              "      <th>Unnamed: 0</th>\n",
              "      <th>id</th>\n",
              "      <th>name</th>\n",
              "      <th>rating</th>\n",
              "      <th>reviews</th>\n",
              "      <th>host_name</th>\n",
              "      <th>host_id</th>\n",
              "      <th>address</th>\n",
              "      <th>features</th>\n",
              "      <th>amenities</th>\n",
              "      <th>...</th>\n",
              "      <th>price</th>\n",
              "      <th>country</th>\n",
              "      <th>bathrooms</th>\n",
              "      <th>beds</th>\n",
              "      <th>guests</th>\n",
              "      <th>toiles</th>\n",
              "      <th>bedrooms</th>\n",
              "      <th>studios</th>\n",
              "      <th>checkin</th>\n",
              "      <th>checkout</th>\n",
              "    </tr>\n",
              "  </thead>\n",
              "  <tbody>\n",
              "    <tr>\n",
              "      <th>0</th>\n",
              "      <td>0</td>\n",
              "      <td>49849504</td>\n",
              "      <td>Perla bungalov</td>\n",
              "      <td>4.71</td>\n",
              "      <td>64</td>\n",
              "      <td>Mehmetcan</td>\n",
              "      <td>357334205.0</td>\n",
              "      <td>Kartepe, Kocaeli, Turkey</td>\n",
              "      <td>2 guests,2 bedrooms,1 bed,1 bathroom</td>\n",
              "      <td>Mountain view,Valley view,Lake access,Kitchen,...</td>\n",
              "      <td>...</td>\n",
              "      <td>8078</td>\n",
              "      <td>Turkey</td>\n",
              "      <td>1</td>\n",
              "      <td>1</td>\n",
              "      <td>2</td>\n",
              "      <td>0</td>\n",
              "      <td>2</td>\n",
              "      <td>0</td>\n",
              "      <td>Flexible</td>\n",
              "      <td>12 00 pm</td>\n",
              "    </tr>\n",
              "    <tr>\n",
              "      <th>1</th>\n",
              "      <td>1</td>\n",
              "      <td>50891766</td>\n",
              "      <td>Authentic Beach Architect Sheltered Villa with...</td>\n",
              "      <td>New</td>\n",
              "      <td>0</td>\n",
              "      <td>Fatih</td>\n",
              "      <td>386223873.0</td>\n",
              "      <td>Kaş, Antalya, Turkey</td>\n",
              "      <td>4 guests,2 bedrooms,2 beds,2 bathrooms</td>\n",
              "      <td>Kitchen,Wifi,Dedicated workspace,Free parking ...</td>\n",
              "      <td>...</td>\n",
              "      <td>4665</td>\n",
              "      <td>Turkey</td>\n",
              "      <td>2</td>\n",
              "      <td>2</td>\n",
              "      <td>4</td>\n",
              "      <td>0</td>\n",
              "      <td>2</td>\n",
              "      <td>0</td>\n",
              "      <td>4 00 pm - 11 00 pm</td>\n",
              "      <td>10 00 am</td>\n",
              "    </tr>\n",
              "    <tr>\n",
              "      <th>2</th>\n",
              "      <td>2</td>\n",
              "      <td>50699164</td>\n",
              "      <td>cottages sataplia</td>\n",
              "      <td>4.85</td>\n",
              "      <td>68</td>\n",
              "      <td>Giorgi</td>\n",
              "      <td>409690853.0</td>\n",
              "      <td>Imereti, Georgia</td>\n",
              "      <td>4 guests,1 bedroom,3 beds,1 bathroom</td>\n",
              "      <td>Mountain view,Kitchen,Wifi,Dedicated workspace...</td>\n",
              "      <td>...</td>\n",
              "      <td>5991</td>\n",
              "      <td>Georgia</td>\n",
              "      <td>1</td>\n",
              "      <td>3</td>\n",
              "      <td>4</td>\n",
              "      <td>0</td>\n",
              "      <td>1</td>\n",
              "      <td>0</td>\n",
              "      <td>After 1 00 pm</td>\n",
              "      <td>12 00 pm</td>\n",
              "    </tr>\n",
              "    <tr>\n",
              "      <th>3</th>\n",
              "      <td>3</td>\n",
              "      <td>49871422</td>\n",
              "      <td>Sapanca Breathable Bungalow</td>\n",
              "      <td>5.0</td>\n",
              "      <td>13</td>\n",
              "      <td>Melih</td>\n",
              "      <td>401873242.0</td>\n",
              "      <td>Sapanca, Sakarya, Turkey</td>\n",
              "      <td>4 guests,1 bedroom,2 beds,1 bathroom</td>\n",
              "      <td>Mountain view,Valley view,Kitchen,Wifi,Free pa...</td>\n",
              "      <td>...</td>\n",
              "      <td>11339</td>\n",
              "      <td>Turkey</td>\n",
              "      <td>1</td>\n",
              "      <td>2</td>\n",
              "      <td>4</td>\n",
              "      <td>0</td>\n",
              "      <td>1</td>\n",
              "      <td>0</td>\n",
              "      <td>After 2 00 pm</td>\n",
              "      <td>12 00 pm</td>\n",
              "    </tr>\n",
              "    <tr>\n",
              "      <th>4</th>\n",
              "      <td>4</td>\n",
              "      <td>51245886</td>\n",
              "      <td>Bungalov Ev 2</td>\n",
              "      <td>New</td>\n",
              "      <td>0</td>\n",
              "      <td>Arp Sapanca</td>\n",
              "      <td>414884116.0</td>\n",
              "      <td>Sapanca, Sakarya, Turkey</td>\n",
              "      <td>2 guests,1 bedroom,1 bed,1 bathroom</td>\n",
              "      <td>Kitchen,Wifi,Free parking on premises,TV,Air c...</td>\n",
              "      <td>...</td>\n",
              "      <td>6673</td>\n",
              "      <td>Turkey</td>\n",
              "      <td>1</td>\n",
              "      <td>1</td>\n",
              "      <td>2</td>\n",
              "      <td>0</td>\n",
              "      <td>1</td>\n",
              "      <td>0</td>\n",
              "      <td>After 2 00 pm</td>\n",
              "      <td>12 00 pm</td>\n",
              "    </tr>\n",
              "  </tbody>\n",
              "</table>\n",
              "<p>5 rows × 23 columns</p>\n",
              "</div>\n",
              "    <div class=\"colab-df-buttons\">\n",
              "\n",
              "  <div class=\"colab-df-container\">\n",
              "    <button class=\"colab-df-convert\" onclick=\"convertToInteractive('df-89387a56-102d-49f3-8706-41187f226e54')\"\n",
              "            title=\"Convert this dataframe to an interactive table.\"\n",
              "            style=\"display:none;\">\n",
              "\n",
              "  <svg xmlns=\"http://www.w3.org/2000/svg\" height=\"24px\" viewBox=\"0 -960 960 960\">\n",
              "    <path d=\"M120-120v-720h720v720H120Zm60-500h600v-160H180v160Zm220 220h160v-160H400v160Zm0 220h160v-160H400v160ZM180-400h160v-160H180v160Zm440 0h160v-160H620v160ZM180-180h160v-160H180v160Zm440 0h160v-160H620v160Z\"/>\n",
              "  </svg>\n",
              "    </button>\n",
              "\n",
              "  <style>\n",
              "    .colab-df-container {\n",
              "      display:flex;\n",
              "      gap: 12px;\n",
              "    }\n",
              "\n",
              "    .colab-df-convert {\n",
              "      background-color: #E8F0FE;\n",
              "      border: none;\n",
              "      border-radius: 50%;\n",
              "      cursor: pointer;\n",
              "      display: none;\n",
              "      fill: #1967D2;\n",
              "      height: 32px;\n",
              "      padding: 0 0 0 0;\n",
              "      width: 32px;\n",
              "    }\n",
              "\n",
              "    .colab-df-convert:hover {\n",
              "      background-color: #E2EBFA;\n",
              "      box-shadow: 0px 1px 2px rgba(60, 64, 67, 0.3), 0px 1px 3px 1px rgba(60, 64, 67, 0.15);\n",
              "      fill: #174EA6;\n",
              "    }\n",
              "\n",
              "    .colab-df-buttons div {\n",
              "      margin-bottom: 4px;\n",
              "    }\n",
              "\n",
              "    [theme=dark] .colab-df-convert {\n",
              "      background-color: #3B4455;\n",
              "      fill: #D2E3FC;\n",
              "    }\n",
              "\n",
              "    [theme=dark] .colab-df-convert:hover {\n",
              "      background-color: #434B5C;\n",
              "      box-shadow: 0px 1px 3px 1px rgba(0, 0, 0, 0.15);\n",
              "      filter: drop-shadow(0px 1px 2px rgba(0, 0, 0, 0.3));\n",
              "      fill: #FFFFFF;\n",
              "    }\n",
              "  </style>\n",
              "\n",
              "    <script>\n",
              "      const buttonEl =\n",
              "        document.querySelector('#df-89387a56-102d-49f3-8706-41187f226e54 button.colab-df-convert');\n",
              "      buttonEl.style.display =\n",
              "        google.colab.kernel.accessAllowed ? 'block' : 'none';\n",
              "\n",
              "      async function convertToInteractive(key) {\n",
              "        const element = document.querySelector('#df-89387a56-102d-49f3-8706-41187f226e54');\n",
              "        const dataTable =\n",
              "          await google.colab.kernel.invokeFunction('convertToInteractive',\n",
              "                                                    [key], {});\n",
              "        if (!dataTable) return;\n",
              "\n",
              "        const docLinkHtml = 'Like what you see? Visit the ' +\n",
              "          '<a target=\"_blank\" href=https://colab.research.google.com/notebooks/data_table.ipynb>data table notebook</a>'\n",
              "          + ' to learn more about interactive tables.';\n",
              "        element.innerHTML = '';\n",
              "        dataTable['output_type'] = 'display_data';\n",
              "        await google.colab.output.renderOutput(dataTable, element);\n",
              "        const docLink = document.createElement('div');\n",
              "        docLink.innerHTML = docLinkHtml;\n",
              "        element.appendChild(docLink);\n",
              "      }\n",
              "    </script>\n",
              "  </div>\n",
              "\n",
              "\n",
              "    <div id=\"df-1ba8cc8c-1bce-42c9-86e4-b70f6881e0c2\">\n",
              "      <button class=\"colab-df-quickchart\" onclick=\"quickchart('df-1ba8cc8c-1bce-42c9-86e4-b70f6881e0c2')\"\n",
              "                title=\"Suggest charts\"\n",
              "                style=\"display:none;\">\n",
              "\n",
              "<svg xmlns=\"http://www.w3.org/2000/svg\" height=\"24px\"viewBox=\"0 0 24 24\"\n",
              "     width=\"24px\">\n",
              "    <g>\n",
              "        <path d=\"M19 3H5c-1.1 0-2 .9-2 2v14c0 1.1.9 2 2 2h14c1.1 0 2-.9 2-2V5c0-1.1-.9-2-2-2zM9 17H7v-7h2v7zm4 0h-2V7h2v10zm4 0h-2v-4h2v4z\"/>\n",
              "    </g>\n",
              "</svg>\n",
              "      </button>\n",
              "\n",
              "<style>\n",
              "  .colab-df-quickchart {\n",
              "      --bg-color: #E8F0FE;\n",
              "      --fill-color: #1967D2;\n",
              "      --hover-bg-color: #E2EBFA;\n",
              "      --hover-fill-color: #174EA6;\n",
              "      --disabled-fill-color: #AAA;\n",
              "      --disabled-bg-color: #DDD;\n",
              "  }\n",
              "\n",
              "  [theme=dark] .colab-df-quickchart {\n",
              "      --bg-color: #3B4455;\n",
              "      --fill-color: #D2E3FC;\n",
              "      --hover-bg-color: #434B5C;\n",
              "      --hover-fill-color: #FFFFFF;\n",
              "      --disabled-bg-color: #3B4455;\n",
              "      --disabled-fill-color: #666;\n",
              "  }\n",
              "\n",
              "  .colab-df-quickchart {\n",
              "    background-color: var(--bg-color);\n",
              "    border: none;\n",
              "    border-radius: 50%;\n",
              "    cursor: pointer;\n",
              "    display: none;\n",
              "    fill: var(--fill-color);\n",
              "    height: 32px;\n",
              "    padding: 0;\n",
              "    width: 32px;\n",
              "  }\n",
              "\n",
              "  .colab-df-quickchart:hover {\n",
              "    background-color: var(--hover-bg-color);\n",
              "    box-shadow: 0 1px 2px rgba(60, 64, 67, 0.3), 0 1px 3px 1px rgba(60, 64, 67, 0.15);\n",
              "    fill: var(--button-hover-fill-color);\n",
              "  }\n",
              "\n",
              "  .colab-df-quickchart-complete:disabled,\n",
              "  .colab-df-quickchart-complete:disabled:hover {\n",
              "    background-color: var(--disabled-bg-color);\n",
              "    fill: var(--disabled-fill-color);\n",
              "    box-shadow: none;\n",
              "  }\n",
              "\n",
              "  .colab-df-spinner {\n",
              "    border: 2px solid var(--fill-color);\n",
              "    border-color: transparent;\n",
              "    border-bottom-color: var(--fill-color);\n",
              "    animation:\n",
              "      spin 1s steps(1) infinite;\n",
              "  }\n",
              "\n",
              "  @keyframes spin {\n",
              "    0% {\n",
              "      border-color: transparent;\n",
              "      border-bottom-color: var(--fill-color);\n",
              "      border-left-color: var(--fill-color);\n",
              "    }\n",
              "    20% {\n",
              "      border-color: transparent;\n",
              "      border-left-color: var(--fill-color);\n",
              "      border-top-color: var(--fill-color);\n",
              "    }\n",
              "    30% {\n",
              "      border-color: transparent;\n",
              "      border-left-color: var(--fill-color);\n",
              "      border-top-color: var(--fill-color);\n",
              "      border-right-color: var(--fill-color);\n",
              "    }\n",
              "    40% {\n",
              "      border-color: transparent;\n",
              "      border-right-color: var(--fill-color);\n",
              "      border-top-color: var(--fill-color);\n",
              "    }\n",
              "    60% {\n",
              "      border-color: transparent;\n",
              "      border-right-color: var(--fill-color);\n",
              "    }\n",
              "    80% {\n",
              "      border-color: transparent;\n",
              "      border-right-color: var(--fill-color);\n",
              "      border-bottom-color: var(--fill-color);\n",
              "    }\n",
              "    90% {\n",
              "      border-color: transparent;\n",
              "      border-bottom-color: var(--fill-color);\n",
              "    }\n",
              "  }\n",
              "</style>\n",
              "\n",
              "      <script>\n",
              "        async function quickchart(key) {\n",
              "          const quickchartButtonEl =\n",
              "            document.querySelector('#' + key + ' button');\n",
              "          quickchartButtonEl.disabled = true;  // To prevent multiple clicks.\n",
              "          quickchartButtonEl.classList.add('colab-df-spinner');\n",
              "          try {\n",
              "            const charts = await google.colab.kernel.invokeFunction(\n",
              "                'suggestCharts', [key], {});\n",
              "          } catch (error) {\n",
              "            console.error('Error during call to suggestCharts:', error);\n",
              "          }\n",
              "          quickchartButtonEl.classList.remove('colab-df-spinner');\n",
              "          quickchartButtonEl.classList.add('colab-df-quickchart-complete');\n",
              "        }\n",
              "        (() => {\n",
              "          let quickchartButtonEl =\n",
              "            document.querySelector('#df-1ba8cc8c-1bce-42c9-86e4-b70f6881e0c2 button');\n",
              "          quickchartButtonEl.style.display =\n",
              "            google.colab.kernel.accessAllowed ? 'block' : 'none';\n",
              "        })();\n",
              "      </script>\n",
              "    </div>\n",
              "\n",
              "    </div>\n",
              "  </div>\n"
            ],
            "application/vnd.google.colaboratory.intrinsic+json": {
              "type": "dataframe",
              "variable_name": "df"
            }
          },
          "metadata": {},
          "execution_count": 3
        }
      ]
    },
    {
      "cell_type": "code",
      "source": [
        "#Display the dataset shape\n",
        "df.shape"
      ],
      "metadata": {
        "colab": {
          "base_uri": "https://localhost:8080/"
        },
        "id": "7MfFwpDDa60n",
        "outputId": "b8ad57fa-86c4-471b-8871-782d4ce98738"
      },
      "execution_count": null,
      "outputs": [
        {
          "output_type": "execute_result",
          "data": {
            "text/plain": [
              "(12805, 23)"
            ]
          },
          "metadata": {},
          "execution_count": 4
        }
      ]
    },
    {
      "cell_type": "code",
      "source": [
        "#Display the column names\n",
        "df.columns"
      ],
      "metadata": {
        "colab": {
          "base_uri": "https://localhost:8080/"
        },
        "id": "bvTE7hwgWUZ3",
        "outputId": "54223e10-6050-4a37-bfdb-9a5ef691bdf0"
      },
      "execution_count": null,
      "outputs": [
        {
          "output_type": "execute_result",
          "data": {
            "text/plain": [
              "Index(['Unnamed: 0', 'id', 'name', 'rating', 'reviews', 'host_name', 'host_id',\n",
              "       'address', 'features', 'amenities', 'safety_rules', 'hourse_rules',\n",
              "       'img_links', 'price', 'country', 'bathrooms', 'beds', 'guests',\n",
              "       'toiles', 'bedrooms', 'studios', 'checkin', 'checkout'],\n",
              "      dtype='object')"
            ]
          },
          "metadata": {},
          "execution_count": 5
        }
      ]
    },
    {
      "cell_type": "markdown",
      "source": [
        "Data Types and Basic Info"
      ],
      "metadata": {
        "id": "iEbOj8y05XyU"
      }
    },
    {
      "cell_type": "code",
      "source": [
        "# Check column names, non-null counts, and data types\n",
        "df.info()\n"
      ],
      "metadata": {
        "colab": {
          "base_uri": "https://localhost:8080/"
        },
        "id": "9hAITuYl4iO3",
        "outputId": "fa59b926-a3b9-417f-858d-aaccfccfe432"
      },
      "execution_count": null,
      "outputs": [
        {
          "output_type": "stream",
          "name": "stdout",
          "text": [
            "<class 'pandas.core.frame.DataFrame'>\n",
            "RangeIndex: 12805 entries, 0 to 12804\n",
            "Data columns (total 23 columns):\n",
            " #   Column        Non-Null Count  Dtype  \n",
            "---  ------        --------------  -----  \n",
            " 0   Unnamed: 0    12805 non-null  int64  \n",
            " 1   id            12805 non-null  int64  \n",
            " 2   name          12805 non-null  object \n",
            " 3   rating        12805 non-null  object \n",
            " 4   reviews       12805 non-null  object \n",
            " 5   host_name     12797 non-null  object \n",
            " 6   host_id       12805 non-null  float64\n",
            " 7   address       12805 non-null  object \n",
            " 8   features      12805 non-null  object \n",
            " 9   amenities     12805 non-null  object \n",
            " 10  safety_rules  12805 non-null  object \n",
            " 11  hourse_rules  12805 non-null  object \n",
            " 12  img_links     12805 non-null  object \n",
            " 13  price         12805 non-null  int64  \n",
            " 14  country       12805 non-null  object \n",
            " 15  bathrooms     12805 non-null  int64  \n",
            " 16  beds          12805 non-null  int64  \n",
            " 17  guests        12805 non-null  int64  \n",
            " 18  toiles        12805 non-null  int64  \n",
            " 19  bedrooms      12805 non-null  int64  \n",
            " 20  studios       12805 non-null  int64  \n",
            " 21  checkin       12005 non-null  object \n",
            " 22  checkout      10355 non-null  object \n",
            "dtypes: float64(1), int64(9), object(13)\n",
            "memory usage: 2.2+ MB\n"
          ]
        }
      ]
    },
    {
      "cell_type": "markdown",
      "source": [
        "Check for missing values"
      ],
      "metadata": {
        "id": "DecXpLZvdZZv"
      }
    },
    {
      "cell_type": "code",
      "source": [
        "#Display the missing value per column\n",
        "df.isnull().sum()"
      ],
      "metadata": {
        "colab": {
          "base_uri": "https://localhost:8080/",
          "height": 805
        },
        "id": "ZMO5B5ukXr-W",
        "outputId": "842c3a2d-b891-41f5-8412-1694edd40f7f"
      },
      "execution_count": null,
      "outputs": [
        {
          "output_type": "execute_result",
          "data": {
            "text/plain": [
              "Unnamed: 0         0\n",
              "id                 0\n",
              "name               0\n",
              "rating             0\n",
              "reviews            0\n",
              "host_name          8\n",
              "host_id            0\n",
              "address            0\n",
              "features           0\n",
              "amenities          0\n",
              "safety_rules       0\n",
              "hourse_rules       0\n",
              "img_links          0\n",
              "price              0\n",
              "country            0\n",
              "bathrooms          0\n",
              "beds               0\n",
              "guests             0\n",
              "toiles             0\n",
              "bedrooms           0\n",
              "studios            0\n",
              "checkin          800\n",
              "checkout        2450\n",
              "dtype: int64"
            ],
            "text/html": [
              "<div>\n",
              "<style scoped>\n",
              "    .dataframe tbody tr th:only-of-type {\n",
              "        vertical-align: middle;\n",
              "    }\n",
              "\n",
              "    .dataframe tbody tr th {\n",
              "        vertical-align: top;\n",
              "    }\n",
              "\n",
              "    .dataframe thead th {\n",
              "        text-align: right;\n",
              "    }\n",
              "</style>\n",
              "<table border=\"1\" class=\"dataframe\">\n",
              "  <thead>\n",
              "    <tr style=\"text-align: right;\">\n",
              "      <th></th>\n",
              "      <th>0</th>\n",
              "    </tr>\n",
              "  </thead>\n",
              "  <tbody>\n",
              "    <tr>\n",
              "      <th>Unnamed: 0</th>\n",
              "      <td>0</td>\n",
              "    </tr>\n",
              "    <tr>\n",
              "      <th>id</th>\n",
              "      <td>0</td>\n",
              "    </tr>\n",
              "    <tr>\n",
              "      <th>name</th>\n",
              "      <td>0</td>\n",
              "    </tr>\n",
              "    <tr>\n",
              "      <th>rating</th>\n",
              "      <td>0</td>\n",
              "    </tr>\n",
              "    <tr>\n",
              "      <th>reviews</th>\n",
              "      <td>0</td>\n",
              "    </tr>\n",
              "    <tr>\n",
              "      <th>host_name</th>\n",
              "      <td>8</td>\n",
              "    </tr>\n",
              "    <tr>\n",
              "      <th>host_id</th>\n",
              "      <td>0</td>\n",
              "    </tr>\n",
              "    <tr>\n",
              "      <th>address</th>\n",
              "      <td>0</td>\n",
              "    </tr>\n",
              "    <tr>\n",
              "      <th>features</th>\n",
              "      <td>0</td>\n",
              "    </tr>\n",
              "    <tr>\n",
              "      <th>amenities</th>\n",
              "      <td>0</td>\n",
              "    </tr>\n",
              "    <tr>\n",
              "      <th>safety_rules</th>\n",
              "      <td>0</td>\n",
              "    </tr>\n",
              "    <tr>\n",
              "      <th>hourse_rules</th>\n",
              "      <td>0</td>\n",
              "    </tr>\n",
              "    <tr>\n",
              "      <th>img_links</th>\n",
              "      <td>0</td>\n",
              "    </tr>\n",
              "    <tr>\n",
              "      <th>price</th>\n",
              "      <td>0</td>\n",
              "    </tr>\n",
              "    <tr>\n",
              "      <th>country</th>\n",
              "      <td>0</td>\n",
              "    </tr>\n",
              "    <tr>\n",
              "      <th>bathrooms</th>\n",
              "      <td>0</td>\n",
              "    </tr>\n",
              "    <tr>\n",
              "      <th>beds</th>\n",
              "      <td>0</td>\n",
              "    </tr>\n",
              "    <tr>\n",
              "      <th>guests</th>\n",
              "      <td>0</td>\n",
              "    </tr>\n",
              "    <tr>\n",
              "      <th>toiles</th>\n",
              "      <td>0</td>\n",
              "    </tr>\n",
              "    <tr>\n",
              "      <th>bedrooms</th>\n",
              "      <td>0</td>\n",
              "    </tr>\n",
              "    <tr>\n",
              "      <th>studios</th>\n",
              "      <td>0</td>\n",
              "    </tr>\n",
              "    <tr>\n",
              "      <th>checkin</th>\n",
              "      <td>800</td>\n",
              "    </tr>\n",
              "    <tr>\n",
              "      <th>checkout</th>\n",
              "      <td>2450</td>\n",
              "    </tr>\n",
              "  </tbody>\n",
              "</table>\n",
              "</div><br><label><b>dtype:</b> int64</label>"
            ]
          },
          "metadata": {},
          "execution_count": 7
        }
      ]
    },
    {
      "cell_type": "code",
      "source": [
        "#Add value in the  missing value fields\n",
        "df['host_name'].fillna('Unknown', inplace=True)\n",
        "df['checkin'].fillna('12:00 pm', inplace=True)\n",
        "df['checkout'].fillna('11:00 am', inplace=True)"
      ],
      "metadata": {
        "id": "tgsYnmAKZMFD",
        "colab": {
          "base_uri": "https://localhost:8080/"
        },
        "outputId": "c4f7d25a-c965-4910-eeeb-7d2dc13a8405"
      },
      "execution_count": null,
      "outputs": [
        {
          "output_type": "stream",
          "name": "stderr",
          "text": [
            "<ipython-input-8-2b2026c8eb8d>:2: FutureWarning: A value is trying to be set on a copy of a DataFrame or Series through chained assignment using an inplace method.\n",
            "The behavior will change in pandas 3.0. This inplace method will never work because the intermediate object on which we are setting values always behaves as a copy.\n",
            "\n",
            "For example, when doing 'df[col].method(value, inplace=True)', try using 'df.method({col: value}, inplace=True)' or df[col] = df[col].method(value) instead, to perform the operation inplace on the original object.\n",
            "\n",
            "\n",
            "  df['host_name'].fillna('Unknown', inplace=True)\n",
            "<ipython-input-8-2b2026c8eb8d>:3: FutureWarning: A value is trying to be set on a copy of a DataFrame or Series through chained assignment using an inplace method.\n",
            "The behavior will change in pandas 3.0. This inplace method will never work because the intermediate object on which we are setting values always behaves as a copy.\n",
            "\n",
            "For example, when doing 'df[col].method(value, inplace=True)', try using 'df.method({col: value}, inplace=True)' or df[col] = df[col].method(value) instead, to perform the operation inplace on the original object.\n",
            "\n",
            "\n",
            "  df['checkin'].fillna('12:00 pm', inplace=True)\n",
            "<ipython-input-8-2b2026c8eb8d>:4: FutureWarning: A value is trying to be set on a copy of a DataFrame or Series through chained assignment using an inplace method.\n",
            "The behavior will change in pandas 3.0. This inplace method will never work because the intermediate object on which we are setting values always behaves as a copy.\n",
            "\n",
            "For example, when doing 'df[col].method(value, inplace=True)', try using 'df.method({col: value}, inplace=True)' or df[col] = df[col].method(value) instead, to perform the operation inplace on the original object.\n",
            "\n",
            "\n",
            "  df['checkout'].fillna('11:00 am', inplace=True)\n"
          ]
        }
      ]
    },
    {
      "cell_type": "code",
      "source": [
        "#After adding display the missing value per column\n",
        "df.isnull().sum()"
      ],
      "metadata": {
        "colab": {
          "base_uri": "https://localhost:8080/",
          "height": 805
        },
        "id": "ZQb_yizBxT9N",
        "outputId": "60c98f5d-63ee-4b63-cd9a-44f47405fb77"
      },
      "execution_count": null,
      "outputs": [
        {
          "output_type": "execute_result",
          "data": {
            "text/plain": [
              "Unnamed: 0      0\n",
              "id              0\n",
              "name            0\n",
              "rating          0\n",
              "reviews         0\n",
              "host_name       0\n",
              "host_id         0\n",
              "address         0\n",
              "features        0\n",
              "amenities       0\n",
              "safety_rules    0\n",
              "hourse_rules    0\n",
              "img_links       0\n",
              "price           0\n",
              "country         0\n",
              "bathrooms       0\n",
              "beds            0\n",
              "guests          0\n",
              "toiles          0\n",
              "bedrooms        0\n",
              "studios         0\n",
              "checkin         0\n",
              "checkout        0\n",
              "dtype: int64"
            ],
            "text/html": [
              "<div>\n",
              "<style scoped>\n",
              "    .dataframe tbody tr th:only-of-type {\n",
              "        vertical-align: middle;\n",
              "    }\n",
              "\n",
              "    .dataframe tbody tr th {\n",
              "        vertical-align: top;\n",
              "    }\n",
              "\n",
              "    .dataframe thead th {\n",
              "        text-align: right;\n",
              "    }\n",
              "</style>\n",
              "<table border=\"1\" class=\"dataframe\">\n",
              "  <thead>\n",
              "    <tr style=\"text-align: right;\">\n",
              "      <th></th>\n",
              "      <th>0</th>\n",
              "    </tr>\n",
              "  </thead>\n",
              "  <tbody>\n",
              "    <tr>\n",
              "      <th>Unnamed: 0</th>\n",
              "      <td>0</td>\n",
              "    </tr>\n",
              "    <tr>\n",
              "      <th>id</th>\n",
              "      <td>0</td>\n",
              "    </tr>\n",
              "    <tr>\n",
              "      <th>name</th>\n",
              "      <td>0</td>\n",
              "    </tr>\n",
              "    <tr>\n",
              "      <th>rating</th>\n",
              "      <td>0</td>\n",
              "    </tr>\n",
              "    <tr>\n",
              "      <th>reviews</th>\n",
              "      <td>0</td>\n",
              "    </tr>\n",
              "    <tr>\n",
              "      <th>host_name</th>\n",
              "      <td>0</td>\n",
              "    </tr>\n",
              "    <tr>\n",
              "      <th>host_id</th>\n",
              "      <td>0</td>\n",
              "    </tr>\n",
              "    <tr>\n",
              "      <th>address</th>\n",
              "      <td>0</td>\n",
              "    </tr>\n",
              "    <tr>\n",
              "      <th>features</th>\n",
              "      <td>0</td>\n",
              "    </tr>\n",
              "    <tr>\n",
              "      <th>amenities</th>\n",
              "      <td>0</td>\n",
              "    </tr>\n",
              "    <tr>\n",
              "      <th>safety_rules</th>\n",
              "      <td>0</td>\n",
              "    </tr>\n",
              "    <tr>\n",
              "      <th>hourse_rules</th>\n",
              "      <td>0</td>\n",
              "    </tr>\n",
              "    <tr>\n",
              "      <th>img_links</th>\n",
              "      <td>0</td>\n",
              "    </tr>\n",
              "    <tr>\n",
              "      <th>price</th>\n",
              "      <td>0</td>\n",
              "    </tr>\n",
              "    <tr>\n",
              "      <th>country</th>\n",
              "      <td>0</td>\n",
              "    </tr>\n",
              "    <tr>\n",
              "      <th>bathrooms</th>\n",
              "      <td>0</td>\n",
              "    </tr>\n",
              "    <tr>\n",
              "      <th>beds</th>\n",
              "      <td>0</td>\n",
              "    </tr>\n",
              "    <tr>\n",
              "      <th>guests</th>\n",
              "      <td>0</td>\n",
              "    </tr>\n",
              "    <tr>\n",
              "      <th>toiles</th>\n",
              "      <td>0</td>\n",
              "    </tr>\n",
              "    <tr>\n",
              "      <th>bedrooms</th>\n",
              "      <td>0</td>\n",
              "    </tr>\n",
              "    <tr>\n",
              "      <th>studios</th>\n",
              "      <td>0</td>\n",
              "    </tr>\n",
              "    <tr>\n",
              "      <th>checkin</th>\n",
              "      <td>0</td>\n",
              "    </tr>\n",
              "    <tr>\n",
              "      <th>checkout</th>\n",
              "      <td>0</td>\n",
              "    </tr>\n",
              "  </tbody>\n",
              "</table>\n",
              "</div><br><label><b>dtype:</b> int64</label>"
            ]
          },
          "metadata": {},
          "execution_count": 9
        }
      ]
    },
    {
      "cell_type": "markdown",
      "source": [
        "# 2. Check Data Distribution"
      ],
      "metadata": {
        "id": "6U0ce2hOc_Df"
      }
    },
    {
      "cell_type": "markdown",
      "source": [
        "Analyze the Distribution of the Target Variable (price)"
      ],
      "metadata": {
        "id": "Oiliz7MTc1To"
      }
    },
    {
      "cell_type": "code",
      "source": [
        "import matplotlib.pyplot as plt\n",
        "import seaborn as sns\n",
        "\n",
        "plt.figure(figsize=(8,5))\n",
        "sns.histplot(df['price'], bins=50, kde=True, color='skyblue')\n",
        "plt.title('Distribution of Price')\n",
        "plt.xlabel('Price')\n",
        "plt.ylabel('Frequency')\n",
        "plt.show()\n"
      ],
      "metadata": {
        "colab": {
          "base_uri": "https://localhost:8080/",
          "height": 487
        },
        "id": "frlGpaR3ep4w",
        "outputId": "739e43bb-d7f5-4cd3-a3dd-05e1699fe3bf"
      },
      "execution_count": null,
      "outputs": [
        {
          "output_type": "display_data",
          "data": {
            "text/plain": [
              "<Figure size 800x500 with 1 Axes>"
            ],
            "image/png": "[encoded data removed]"
          },
          "metadata": {}
        }
      ]
    },
    {
      "cell_type": "code",
      "source": [
        "#Boxplot\n",
        "plt.figure(figsize=(8,2))\n",
        "sns.boxplot(x='price', data=df, color='skyblue')\n",
        "plt.title('Boxplot of Price')\n",
        "plt.show()\n"
      ],
      "metadata": {
        "colab": {
          "base_uri": "https://localhost:8080/",
          "height": 256
        },
        "id": "4cCL-_wAe8qv",
        "outputId": "29451f29-7ebe-4a44-ed37-77d1021c0384"
      },
      "execution_count": null,
      "outputs": [
        {
          "output_type": "display_data",
          "data": {
            "text/plain": [
              "<Figure size 800x200 with 1 Axes>"
            ],
            "image/png": "[encoded data removed]"
          },
          "metadata": {}
        }
      ]
    },
    {
      "cell_type": "markdown",
      "source": [
        "Analyze Other Numerical Columns"
      ],
      "metadata": {
        "id": "HgZpKIw06fV7"
      }
    },
    {
      "cell_type": "code",
      "source": [
        "numerical_cols = ['price', 'bathrooms', 'beds', 'guests', 'toiles', 'bedrooms', 'studios']\n",
        "\n",
        "# Plot histograms\n",
        "df[numerical_cols].hist(bins=30, figsize=(15, 10), layout=(3, 3))\n",
        "plt.suptitle(\"Distributions of Numerical Features\", fontsize=16)\n",
        "plt.tight_layout()\n",
        "plt.show()\n"
      ],
      "metadata": {
        "colab": {
          "base_uri": "https://localhost:8080/",
          "height": 997
        },
        "id": "pScdl8Lf6gez",
        "outputId": "a8d3c630-1bcd-47f8-b157-54f06a142a5e"
      },
      "execution_count": null,
      "outputs": [
        {
          "output_type": "display_data",
          "data": {
            "text/plain": [
              "<Figure size 1500x1000 with 9 Axes>"
            ],
            "image/png": "[encoded data removed]"
          },
          "metadata": {}
        }
      ]
    },
    {
      "cell_type": "markdown",
      "source": [
        "# 3. Correlation Analysis"
      ],
      "metadata": {
        "id": "NmQtf3SBh-6A"
      }
    },
    {
      "cell_type": "markdown",
      "source": [
        "Correlations Between Numerical Features"
      ],
      "metadata": {
        "id": "TKbxsHHq8evq"
      }
    },
    {
      "cell_type": "code",
      "source": [
        "numerical_cols = ['price', 'rating', 'reviews', 'bathrooms', 'beds', 'guests', 'toiles', 'bedrooms', 'studios']"
      ],
      "metadata": {
        "id": "8czmuOh98Del"
      },
      "execution_count": null,
      "outputs": []
    },
    {
      "cell_type": "code",
      "source": [
        "# Convert rating and reviews to numeric if necessary\n",
        "df['rating'] = pd.to_numeric(df['rating'], errors='coerce')\n",
        "df['reviews'] = pd.to_numeric(df['reviews'], errors='coerce')"
      ],
      "metadata": {
        "id": "jqIG06bB8HbD"
      },
      "execution_count": null,
      "outputs": []
    },
    {
      "cell_type": "code",
      "source": [
        "# Create the correlation matrix\n",
        "corr_matrix = df[numerical_cols].corr()\n",
        "\n",
        "# Display the matrix\n",
        "print(corr_matrix)"
      ],
      "metadata": {
        "colab": {
          "base_uri": "https://localhost:8080/"
        },
        "id": "9W-D58Zs8KQZ",
        "outputId": "750ee676-b533-46aa-c7bc-636702ecab91"
      },
      "execution_count": null,
      "outputs": [
        {
          "output_type": "stream",
          "name": "stdout",
          "text": [
            "              price    rating   reviews  bathrooms      beds    guests  \\\n",
            "price      1.000000  0.079345 -0.067351   0.364693  0.233677  0.323393   \n",
            "rating     0.079345  1.000000 -0.024508  -0.005692 -0.012078 -0.025583   \n",
            "reviews   -0.067351 -0.024508  1.000000  -0.114704 -0.076599 -0.093939   \n",
            "bathrooms  0.364693 -0.005692 -0.114704   1.000000  0.603499  0.665468   \n",
            "beds       0.233677 -0.012078 -0.076599   0.603499  1.000000  0.673115   \n",
            "guests     0.323393 -0.025583 -0.093939   0.665468  0.673115  1.000000   \n",
            "toiles    -0.011519 -0.005629  0.046135  -0.125441 -0.041979 -0.069845   \n",
            "bedrooms   0.339388 -0.002608 -0.103030   0.820780  0.772294  0.713547   \n",
            "studios   -0.036399 -0.012797  0.022523  -0.065229 -0.058969 -0.077903   \n",
            "\n",
            "             toiles  bedrooms   studios  \n",
            "price     -0.011519  0.339388 -0.036399  \n",
            "rating    -0.005629 -0.002608 -0.012797  \n",
            "reviews    0.046135 -0.103030  0.022523  \n",
            "bathrooms -0.125441  0.820780 -0.065229  \n",
            "beds      -0.041979  0.772294 -0.058969  \n",
            "guests    -0.069845  0.713547 -0.077903  \n",
            "toiles     1.000000 -0.069573  0.004492  \n",
            "bedrooms  -0.069573  1.000000 -0.140732  \n",
            "studios    0.004492 -0.140732  1.000000  \n"
          ]
        }
      ]
    },
    {
      "cell_type": "markdown",
      "source": [
        "Visualize with a Correlation Heatmap"
      ],
      "metadata": {
        "id": "B3HB66QV8gJs"
      }
    },
    {
      "cell_type": "code",
      "source": [
        "import seaborn as sns\n",
        "import matplotlib.pyplot as plt\n",
        "\n",
        "plt.figure(figsize=(10, 6))\n",
        "sns.heatmap(corr_matrix, annot=True, cmap='coolwarm', linewidths=0.5)\n",
        "plt.title(\"Correlation Matrix of Numerical Features\")\n",
        "plt.show()"
      ],
      "metadata": {
        "colab": {
          "base_uri": "https://localhost:8080/",
          "height": 545
        },
        "id": "WLfneO4n8Ti5",
        "outputId": "fd3ddc4c-f28c-4594-8b7e-51ddd04521fe"
      },
      "execution_count": null,
      "outputs": [
        {
          "output_type": "display_data",
          "data": {
            "text/plain": [
              "<Figure size 1000x600 with 2 Axes>"
            ],
            "image/png": "[encoded data removed]"
          },
          "metadata": {}
        }
      ]
    },
    {
      "cell_type": "markdown",
      "source": [
        "# 4. Analyze Categorical Features"
      ],
      "metadata": {
        "id": "Hy8YhiqTja1f"
      }
    },
    {
      "cell_type": "markdown",
      "source": [
        "Distribution of Categorical Features"
      ],
      "metadata": {
        "id": "n-5xbTsFjiev"
      }
    },
    {
      "cell_type": "code",
      "source": [
        "print(df['country'].value_counts())\n",
        "print(df['host_name'].value_counts().head(10))\n",
        "print(df['bedrooms'].value_counts())"
      ],
      "metadata": {
        "colab": {
          "base_uri": "https://localhost:8080/"
        },
        "id": "n9Nd1tqnjdql",
        "outputId": "9181652f-6f09-40d9-9399-acba1af284b2"
      },
      "execution_count": null,
      "outputs": [
        {
          "output_type": "stream",
          "name": "stdout",
          "text": [
            "country\n",
            " India         2766\n",
            " Italy         1186\n",
            " Greece         885\n",
            " Thailand       677\n",
            " Turkey         519\n",
            "               ... \n",
            " Kosovo           1\n",
            " Guatemala        1\n",
            " St Martin        1\n",
            "Puerto Rico       1\n",
            " Senegal          1\n",
            "Name: count, Length: 148, dtype: int64\n",
            "host_name\n",
            "Onda        58\n",
            "Maria       51\n",
            "David       39\n",
            "George      39\n",
            "Amit        33\n",
            "Anna        33\n",
            "Shanu       28\n",
            "Giuseppe    28\n",
            "Vishal      25\n",
            "Peter       24\n",
            "Name: count, dtype: int64\n",
            "bedrooms\n",
            "1     6374\n",
            "2     2377\n",
            "3     1406\n",
            "4      772\n",
            "0      692\n",
            "5      420\n",
            "6      251\n",
            "7      135\n",
            "8      122\n",
            "10      71\n",
            "9       51\n",
            "11      26\n",
            "12      25\n",
            "20      14\n",
            "15      12\n",
            "16      11\n",
            "13      10\n",
            "19       5\n",
            "24       4\n",
            "14       4\n",
            "50       3\n",
            "21       3\n",
            "17       3\n",
            "25       3\n",
            "18       2\n",
            "28       2\n",
            "30       2\n",
            "26       1\n",
            "27       1\n",
            "22       1\n",
            "23       1\n",
            "34       1\n",
            "Name: count, dtype: int64\n"
          ]
        }
      ]
    },
    {
      "cell_type": "code",
      "source": [
        "# Get the top 10 countries\n",
        "plt.figure(figsize=(8,6))\n",
        "top_countries = df['country'].value_counts().nlargest(10).index\n",
        "sns.countplot(data=df[df['country'].isin(top_countries)], y='country', order=top_countries)\n",
        "plt.title('Top 10 Countries by Number of Listings')\n",
        "plt.xlabel('Listing Count')\n",
        "plt.ylabel('Country')\n",
        "plt.show()"
      ],
      "metadata": {
        "colab": {
          "base_uri": "https://localhost:8080/",
          "height": 564
        },
        "id": "udYKe9bYkJzm",
        "outputId": "34e13d84-f447-4387-fa81-1a35a6795bda"
      },
      "execution_count": null,
      "outputs": [
        {
          "output_type": "display_data",
          "data": {
            "text/plain": [
              "<Figure size 800x600 with 1 Axes>"
            ],
            "image/png": "[encoded data removed]"
          },
          "metadata": {}
        }
      ]
    },
    {
      "cell_type": "markdown",
      "source": [
        "Analyze Relationship with Price"
      ],
      "metadata": {
        "id": "jKOEk1i1kdJP"
      }
    },
    {
      "cell_type": "code",
      "source": [
        "top_countries_avg_price = df.groupby('country')['price'].mean().nlargest(10).index\n",
        "plt.figure(figsize=(8,6))\n",
        "sns.barplot(data=df[df['country'].isin(top_countries_avg_price)], y='country', x='price', estimator='mean', ci=None, palette=\"viridis\")\n",
        "plt.title('Top 10 Countries by Average Price')\n",
        "plt.xlabel('Average Price')\n",
        "plt.ylabel('Country')\n",
        "plt.show()"
      ],
      "metadata": {
        "colab": {
          "base_uri": "https://localhost:8080/",
          "height": 738
        },
        "id": "XBocWun-kd-d",
        "outputId": "8524efd1-bacc-4617-c569-16b3abb85e2d"
      },
      "execution_count": null,
      "outputs": [
        {
          "output_type": "stream",
          "name": "stderr",
          "text": [
            "<ipython-input-19-6f18ed31c881>:3: FutureWarning: \n",
            "\n",
            "The `ci` parameter is deprecated. Use `errorbar=None` for the same effect.\n",
            "\n",
            "  sns.barplot(data=df[df['country'].isin(top_countries_avg_price)], y='country', x='price', estimator='mean', ci=None, palette=\"viridis\")\n",
            "<ipython-input-19-6f18ed31c881>:3: FutureWarning: \n",
            "\n",
            "Passing `palette` without assigning `hue` is deprecated and will be removed in v0.14.0. Assign the `y` variable to `hue` and set `legend=False` for the same effect.\n",
            "\n",
            "  sns.barplot(data=df[df['country'].isin(top_countries_avg_price)], y='country', x='price', estimator='mean', ci=None, palette=\"viridis\")\n"
          ]
        },
        {
          "output_type": "display_data",
          "data": {
            "text/plain": [
              "<Figure size 800x600 with 1 Axes>"
            ],
            "image/png": "[encoded data removed]"
          },
          "metadata": {}
        }
      ]
    },
    {
      "cell_type": "code",
      "source": [
        "top_bedrooms_avg_price = df.groupby('bedrooms')['price'].mean().nlargest(10).index\n",
        "plt.figure(figsize=(10,5))\n",
        "sns.barplot(data=df[df['bedrooms'].isin(top_bedrooms_avg_price)], x='bedrooms', y='price', estimator='mean', ci=None, palette=\"viridis\")\n",
        "plt.title('Top 10 Bedroom Types by Average Price')\n",
        "plt.xticks(rotation=45)\n",
        "plt.ylabel('Average Price')\n",
        "plt.show()"
      ],
      "metadata": {
        "colab": {
          "base_uri": "https://localhost:8080/",
          "height": 670
        },
        "id": "5TDFhZp4k6YH",
        "outputId": "b8635034-594a-479d-8b2a-c5fc3bd6a7d5"
      },
      "execution_count": null,
      "outputs": [
        {
          "output_type": "stream",
          "name": "stderr",
          "text": [
            "<ipython-input-20-a775ab88e93a>:3: FutureWarning: \n",
            "\n",
            "The `ci` parameter is deprecated. Use `errorbar=None` for the same effect.\n",
            "\n",
            "  sns.barplot(data=df[df['bedrooms'].isin(top_bedrooms_avg_price)], x='bedrooms', y='price', estimator='mean', ci=None, palette=\"viridis\")\n",
            "<ipython-input-20-a775ab88e93a>:3: FutureWarning: \n",
            "\n",
            "Passing `palette` without assigning `hue` is deprecated and will be removed in v0.14.0. Assign the `x` variable to `hue` and set `legend=False` for the same effect.\n",
            "\n",
            "  sns.barplot(data=df[df['bedrooms'].isin(top_bedrooms_avg_price)], x='bedrooms', y='price', estimator='mean', ci=None, palette=\"viridis\")\n"
          ]
        },
        {
          "output_type": "display_data",
          "data": {
            "text/plain": [
              "<Figure size 1000x500 with 1 Axes>"
            ],
            "image/png": "[encoded data removed]"
          },
          "metadata": {}
        }
      ]
    },
    {
      "cell_type": "markdown",
      "source": [
        "# Step 2: Data Cleaning"
      ],
      "metadata": {
        "id": "kOlQw4SWn_Rg"
      }
    },
    {
      "cell_type": "markdown",
      "source": [
        "*Identified the missing value in previous step before Exploratory Data Analysis (EDA)*"
      ],
      "metadata": {
        "id": "yIPoP63AoTK4"
      }
    },
    {
      "cell_type": "code",
      "source": [
        "# Check for missing values in the dataset\n",
        "missing_values = df.isnull().sum()\n",
        "# Display columns with missing values\n",
        "missing_values[missing_values > 0]"
      ],
      "metadata": {
        "colab": {
          "base_uri": "https://localhost:8080/",
          "height": 147
        },
        "id": "KHtzIpuqn6yo",
        "outputId": "8f29f3d3-380e-45ca-ecde-35c507549361"
      },
      "execution_count": null,
      "outputs": [
        {
          "output_type": "execute_result",
          "data": {
            "text/plain": [
              "rating     4238\n",
              "reviews       1\n",
              "dtype: int64"
            ],
            "text/html": [
              "<div>\n",
              "<style scoped>\n",
              "    .dataframe tbody tr th:only-of-type {\n",
              "        vertical-align: middle;\n",
              "    }\n",
              "\n",
              "    .dataframe tbody tr th {\n",
              "        vertical-align: top;\n",
              "    }\n",
              "\n",
              "    .dataframe thead th {\n",
              "        text-align: right;\n",
              "    }\n",
              "</style>\n",
              "<table border=\"1\" class=\"dataframe\">\n",
              "  <thead>\n",
              "    <tr style=\"text-align: right;\">\n",
              "      <th></th>\n",
              "      <th>0</th>\n",
              "    </tr>\n",
              "  </thead>\n",
              "  <tbody>\n",
              "    <tr>\n",
              "      <th>rating</th>\n",
              "      <td>4238</td>\n",
              "    </tr>\n",
              "    <tr>\n",
              "      <th>reviews</th>\n",
              "      <td>1</td>\n",
              "    </tr>\n",
              "  </tbody>\n",
              "</table>\n",
              "</div><br><label><b>dtype:</b> int64</label>"
            ]
          },
          "metadata": {},
          "execution_count": 21
        }
      ]
    },
    {
      "cell_type": "markdown",
      "source": [
        "Handle These Missing Values"
      ],
      "metadata": {
        "id": "G-jNoJLP-JH1"
      }
    },
    {
      "cell_type": "code",
      "source": [
        "df['rating'] = df['rating'].fillna(df['rating'].median())\n",
        "df['reviews'] = df['reviews'].fillna(0)"
      ],
      "metadata": {
        "id": "O1C7KhnA-EzF"
      },
      "execution_count": null,
      "outputs": []
    },
    {
      "cell_type": "markdown",
      "source": [
        "Detect Outliers Using Visualization"
      ],
      "metadata": {
        "id": "dGD_NAU9pEcI"
      }
    },
    {
      "cell_type": "code",
      "source": [
        "import matplotlib.pyplot as plt\n",
        "import seaborn as sns\n",
        "\n",
        "plt.figure(figsize=(10, 6))\n",
        "sns.boxplot(x=df['price'])\n",
        "plt.title('Boxplot of Price')\n",
        "plt.show()"
      ],
      "metadata": {
        "colab": {
          "base_uri": "https://localhost:8080/",
          "height": 564
        },
        "id": "2edkc-7MopRA",
        "outputId": "7ba08e40-7210-4c40-f352-b0a3708f51db"
      },
      "execution_count": null,
      "outputs": [
        {
          "output_type": "display_data",
          "data": {
            "text/plain": [
              "<Figure size 1000x600 with 1 Axes>"
            ],
            "image/png": "[encoded data removed]"
          },
          "metadata": {}
        }
      ]
    },
    {
      "cell_type": "code",
      "source": [
        "# Histogram to inspect the distribution of 'price'\n",
        "plt.figure(figsize=(10, 6))\n",
        "df['price'].hist(bins=50, color='skyblue')\n",
        "plt.title('Histogram of Price')\n",
        "plt.xlabel('Price')\n",
        "plt.ylabel('Frequency')\n",
        "plt.show()"
      ],
      "metadata": {
        "colab": {
          "base_uri": "https://localhost:8080/",
          "height": 564
        },
        "id": "0ZjTSzqf_Bvq",
        "outputId": "b94e2bc3-72d1-44a7-c784-4087e6463548"
      },
      "execution_count": null,
      "outputs": [
        {
          "output_type": "display_data",
          "data": {
            "text/plain": [
              "<Figure size 1000x600 with 1 Axes>"
            ],
            "image/png": "[encoded data removed]"
          },
          "metadata": {}
        }
      ]
    },
    {
      "cell_type": "markdown",
      "source": [
        "Remove Outliers"
      ],
      "metadata": {
        "id": "9-stY_5dp2KY"
      }
    },
    {
      "cell_type": "code",
      "source": [
        "# Calculate the IQR\n",
        "Q1 = df['price'].quantile(0.25)\n",
        "Q3 = df['price'].quantile(0.75)\n",
        "IQR = Q3 - Q1\n",
        "\n",
        "# Define upper and lower bounds\n",
        "lower_bound = Q1 - 1.5 * IQR\n",
        "upper_bound = Q3 + 1.5 * IQR\n",
        "\n",
        "# Filter data within the bounds\n",
        "df_cleaned = df[(df['price'] >= lower_bound) & (df['price'] <= upper_bound)]\n",
        "\n",
        "print(f\"Original dataset size: {df.shape}\")\n",
        "print(f\"Cleaned dataset size: {df_cleaned.shape}\")"
      ],
      "metadata": {
        "colab": {
          "base_uri": "https://localhost:8080/"
        },
        "id": "XCKRLomUyUVN",
        "outputId": "e43754b6-c7b4-4f9b-818e-fd075e496825"
      },
      "execution_count": null,
      "outputs": [
        {
          "output_type": "stream",
          "name": "stdout",
          "text": [
            "Original dataset size: (12805, 23)\n",
            "Cleaned dataset size: (11532, 23)\n"
          ]
        }
      ]
    },
    {
      "cell_type": "markdown",
      "source": [
        "Visualize Cleaned Data"
      ],
      "metadata": {
        "id": "e3PQ0t2-qCoI"
      }
    },
    {
      "cell_type": "code",
      "source": [
        "# Histogram of cleaned prices\n",
        "plt.figure(figsize=(8,5))\n",
        "sns.histplot(df_cleaned['price'], bins=50, kde=True)\n",
        "plt.title('Price Distribution After Removing Outliers')\n",
        "plt.xlabel('Price')\n",
        "plt.ylabel('Frequency')\n",
        "plt.show()"
      ],
      "metadata": {
        "colab": {
          "base_uri": "https://localhost:8080/",
          "height": 487
        },
        "id": "SZ7DxJ9qp7cR",
        "outputId": "f8e24c88-5771-46b2-ecf1-4862c04a4473"
      },
      "execution_count": null,
      "outputs": [
        {
          "output_type": "display_data",
          "data": {
            "text/plain": [
              "<Figure size 800x500 with 1 Axes>"
            ],
            "image/png": "[encoded data removed]"
          },
          "metadata": {}
        }
      ]
    },
    {
      "cell_type": "markdown",
      "source": [
        "# Step 2.3: Convert Categorical Features"
      ],
      "metadata": {
        "id": "8JJijnBUqeco"
      }
    },
    {
      "cell_type": "code",
      "source": [
        "df.select_dtypes(include=['object']).columns"
      ],
      "metadata": {
        "colab": {
          "base_uri": "https://localhost:8080/"
        },
        "id": "sUG_kpBIqEPp",
        "outputId": "ab7ee2de-72a0-4dd0-b81d-0605b3cb3657"
      },
      "execution_count": null,
      "outputs": [
        {
          "output_type": "execute_result",
          "data": {
            "text/plain": [
              "Index(['name', 'host_name', 'address', 'features', 'amenities', 'safety_rules',\n",
              "       'hourse_rules', 'img_links', 'country', 'checkin', 'checkout'],\n",
              "      dtype='object')"
            ]
          },
          "metadata": {},
          "execution_count": 27
        }
      ]
    },
    {
      "cell_type": "markdown",
      "source": [
        "Drop Uninformative Columns"
      ],
      "metadata": {
        "id": "gm2jLlP2dh6s"
      }
    },
    {
      "cell_type": "code",
      "source": [
        "df.drop(columns=[\n",
        "    'name',\n",
        "    'address',\n",
        "    'img_links',\n",
        "    'safety_rules',\n",
        "    'hourse_rules',\n",
        "    'checkin',\n",
        "    'checkout',\n",
        "    'host_name',\n",
        "    'features',\n",
        "    'studios',\n",
        "    'toiles', 'Unnamed: 0',\n",
        "    'id',\n",
        "    'host_id',\n",
        "    'amenities'\n",
        "], inplace=True)\n",
        "\n",
        "print(\"Final columns:\")\n",
        "print(df.columns.tolist())"
      ],
      "metadata": {
        "id": "gtamAHizABjj",
        "colab": {
          "base_uri": "https://localhost:8080/"
        },
        "outputId": "1954beaa-e180-4ae7-92db-5da23201234c"
      },
      "execution_count": null,
      "outputs": [
        {
          "output_type": "stream",
          "name": "stdout",
          "text": [
            "Final columns:\n",
            "['rating', 'reviews', 'price', 'country', 'bathrooms', 'beds', 'guests', 'bedrooms']\n"
          ]
        }
      ]
    },
    {
      "cell_type": "markdown",
      "source": [
        "One-hot encoding and Feature Scaling"
      ],
      "metadata": {
        "id": "4Ncwq1UKRgy7"
      }
    },
    {
      "cell_type": "code",
      "source": [
        "from sklearn.preprocessing import StandardScaler\n",
        "#one-hot encoding (for 'country')\n",
        "df_encoded = pd.get_dummies(df, columns=['country'], drop_first=True)\n",
        "\n",
        "#Feature Scaling\n",
        "numerical_columns = ['rating', 'reviews', 'price', 'bathrooms', 'beds', 'guests', 'bedrooms']\n",
        "scaler = StandardScaler()\n",
        "df_encoded[numerical_columns] = scaler.fit_transform(df_encoded[numerical_columns])"
      ],
      "metadata": {
        "id": "Mvne8lZ2tfdi"
      },
      "execution_count": null,
      "outputs": []
    },
    {
      "cell_type": "markdown",
      "source": [
        "Split the Dataset"
      ],
      "metadata": {
        "id": "nHVUybmORzO6"
      }
    },
    {
      "cell_type": "code",
      "source": [
        "from sklearn.model_selection import train_test_split\n",
        "\n",
        "X = df_encoded.drop('price', axis=1)\n",
        "y = df_encoded['price']\n",
        "\n",
        "# Split the dataset into training and testing sets\n",
        "X_train, X_test, y_train, y_test = train_test_split(X, y, test_size=0.2, random_state=42)\n",
        "\n",
        "print(\"Training data shape:\", X_train.shape)\n",
        "print(\"Testing data shape:\", X_test.shape)\n"
      ],
      "metadata": {
        "colab": {
          "base_uri": "https://localhost:8080/"
        },
        "id": "Fx4wUPJVxrxR",
        "outputId": "ef319d71-8581-4789-be84-0373ddb24f4f"
      },
      "execution_count": null,
      "outputs": [
        {
          "output_type": "stream",
          "name": "stdout",
          "text": [
            "Training data shape: (10244, 153)\n",
            "Testing data shape: (2561, 153)\n"
          ]
        }
      ]
    },
    {
      "cell_type": "code",
      "source": [
        "df_encoded['bed_to_bedroom_ratio'] = df_encoded['beds'] / df_encoded['bedrooms']\n",
        "df_encoded['total_bed_capacity'] = df_encoded['bedrooms'] + df_encoded['beds']\n",
        "df_encoded['bedroom_bed_interaction'] = df_encoded['bedrooms'] * df_encoded['beds']\n",
        "df_encoded['average_beds_per_bedroom'] = df_encoded['beds'] / df_encoded['bedrooms']"
      ],
      "metadata": {
        "id": "JE71ry6Wyp1D"
      },
      "execution_count": 39,
      "outputs": []
    },
    {
      "cell_type": "code",
      "source": [
        "import numpy as np\n",
        "# Log-transform the 'beds' and 'bedrooms' features\n",
        "df_encoded['log_beds'] = np.log1p(df_encoded['beds'])\n",
        "df_encoded['log_bedrooms'] = np.log1p(df_encoded['bedrooms'])"
      ],
      "metadata": {
        "id": "q4LslYr1y0Ys"
      },
      "execution_count": null,
      "outputs": []
    },
    {
      "cell_type": "code",
      "source": [
        "# Create the new features based on 'bedrooms' and 'beds'\n",
        "df_encoded['bed_to_bedroom_ratio'] = df_encoded['beds'] / df_encoded['bedrooms']\n",
        "df_encoded['total_bed_capacity'] = df_encoded['bedrooms'] + df_encoded['beds']\n",
        "df_encoded['bedroom_bed_interaction'] = df_encoded['bedrooms'] * df_encoded['beds']\n",
        "df_encoded['average_beds_per_bedroom'] = df_encoded['beds'] / df_encoded['bedrooms']\n",
        "df_encoded['log_beds'] = np.log1p(df_encoded['beds'])\n",
        "df_encoded['log_bedrooms'] = np.log1p(df_encoded['bedrooms'])"
      ],
      "metadata": {
        "id": "qs9nF3asy1ni"
      },
      "execution_count": null,
      "outputs": []
    },
    {
      "cell_type": "code",
      "source": [
        "# Separate features and target\n",
        "X = df_encoded.drop(columns=['price'])\n",
        "y = df_encoded['price']"
      ],
      "metadata": {
        "id": "ce2vifkrzCOb"
      },
      "execution_count": null,
      "outputs": []
    },
    {
      "cell_type": "code",
      "source": [
        "from sklearn.model_selection import train_test_split\n",
        "# Split the data into training and testing sets\n",
        "X_train, X_test, y_train, y_test = train_test_split(X, y, test_size=0.2, random_state=42)\n"
      ],
      "metadata": {
        "id": "SkzcFXNfzEDb"
      },
      "execution_count": null,
      "outputs": []
    },
    {
      "cell_type": "markdown",
      "source": [
        "Random Forest"
      ],
      "metadata": {
        "id": "lPn8olLjUbzw"
      }
    },
    {
      "cell_type": "code",
      "source": [
        "from sklearn.ensemble import RandomForestRegressor\n",
        "rf_model = RandomForestRegressor(n_estimators=100, random_state=42)\n",
        "rf_model.fit(X_train, y_train)\n"
      ],
      "metadata": {
        "colab": {
          "base_uri": "https://localhost:8080/",
          "height": 80
        },
        "id": "BBvHlnNXzGTr",
        "outputId": "d01e4039-6ad0-4182-c9c6-2ff728dfe135"
      },
      "execution_count": null,
      "outputs": [
        {
          "output_type": "execute_result",
          "data": {
            "text/plain": [
              "RandomForestRegressor(random_state=42)"
            ],
            "text/html": [
              "<style>#sk-container-id-1 {\n",
              "  /* Definition of color scheme common for light and dark mode */\n",
              "  --sklearn-color-text: #000;\n",
              "  --sklearn-color-text-muted: #666;\n",
              "  --sklearn-color-line: gray;\n",
              "  /* Definition of color scheme for unfitted estimators */\n",
              "  --sklearn-color-unfitted-level-0: #fff5e6;\n",
              "  --sklearn-color-unfitted-level-1: #f6e4d2;\n",
              "  --sklearn-color-unfitted-level-2: #ffe0b3;\n",
              "  --sklearn-color-unfitted-level-3: chocolate;\n",
              "  /* Definition of color scheme for fitted estimators */\n",
              "  --sklearn-color-fitted-level-0: #f0f8ff;\n",
              "  --sklearn-color-fitted-level-1: #d4ebff;\n",
              "  --sklearn-color-fitted-level-2: #b3dbfd;\n",
              "  --sklearn-color-fitted-level-3: cornflowerblue;\n",
              "\n",
              "  /* Specific color for light theme */\n",
              "  --sklearn-color-text-on-default-background: var(--sg-text-color, var(--theme-code-foreground, var(--jp-content-font-color1, black)));\n",
              "  --sklearn-color-background: var(--sg-background-color, var(--theme-background, var(--jp-layout-color0, white)));\n",
              "  --sklearn-color-border-box: var(--sg-text-color, var(--theme-code-foreground, var(--jp-content-font-color1, black)));\n",
              "  --sklearn-color-icon: #696969;\n",
              "\n",
              "  @media (prefers-color-scheme: dark) {\n",
              "    /* Redefinition of color scheme for dark theme */\n",
              "    --sklearn-color-text-on-default-background: var(--sg-text-color, var(--theme-code-foreground, var(--jp-content-font-color1, white)));\n",
              "    --sklearn-color-background: var(--sg-background-color, var(--theme-background, var(--jp-layout-color0, #111)));\n",
              "    --sklearn-color-border-box: var(--sg-text-color, var(--theme-code-foreground, var(--jp-content-font-color1, white)));\n",
              "    --sklearn-color-icon: #878787;\n",
              "  }\n",
              "}\n",
              "\n",
              "#sk-container-id-1 {\n",
              "  color: var(--sklearn-color-text);\n",
              "}\n",
              "\n",
              "#sk-container-id-1 pre {\n",
              "  padding: 0;\n",
              "}\n",
              "\n",
              "#sk-container-id-1 input.sk-hidden--visually {\n",
              "  border: 0;\n",
              "  clip: rect(1px 1px 1px 1px);\n",
              "  clip: rect(1px, 1px, 1px, 1px);\n",
              "  height: 1px;\n",
              "  margin: -1px;\n",
              "  overflow: hidden;\n",
              "  padding: 0;\n",
              "  position: absolute;\n",
              "  width: 1px;\n",
              "}\n",
              "\n",
              "#sk-container-id-1 div.sk-dashed-wrapped {\n",
              "  border: 1px dashed var(--sklearn-color-line);\n",
              "  margin: 0 0.4em 0.5em 0.4em;\n",
              "  box-sizing: border-box;\n",
              "  padding-bottom: 0.4em;\n",
              "  background-color: var(--sklearn-color-background);\n",
              "}\n",
              "\n",
              "#sk-container-id-1 div.sk-container {\n",
              "  /* jupyter's `normalize.less` sets `[hidden] { display: none; }`\n",
              "     but bootstrap.min.css set `[hidden] { display: none !important; }`\n",
              "     so we also need the `!important` here to be able to override the\n",
              "     default hidden behavior on the sphinx rendered scikit-learn.org.\n",
              "     See: https://github.com/scikit-learn/scikit-learn/issues/21755 */\n",
              "  display: inline-block !important;\n",
              "  position: relative;\n",
              "}\n",
              "\n",
              "#sk-container-id-1 div.sk-text-repr-fallback {\n",
              "  display: none;\n",
              "}\n",
              "\n",
              "div.sk-parallel-item,\n",
              "div.sk-serial,\n",
              "div.sk-item {\n",
              "  /* draw centered vertical line to link estimators */\n",
              "  background-image: linear-gradient(var(--sklearn-color-text-on-default-background), var(--sklearn-color-text-on-default-background));\n",
              "  background-size: 2px 100%;\n",
              "  background-repeat: no-repeat;\n",
              "  background-position: center center;\n",
              "}\n",
              "\n",
              "/* Parallel-specific style estimator block */\n",
              "\n",
              "#sk-container-id-1 div.sk-parallel-item::after {\n",
              "  content: \"\";\n",
              "  width: 100%;\n",
              "  border-bottom: 2px solid var(--sklearn-color-text-on-default-background);\n",
              "  flex-grow: 1;\n",
              "}\n",
              "\n",
              "#sk-container-id-1 div.sk-parallel {\n",
              "  display: flex;\n",
              "  align-items: stretch;\n",
              "  justify-content: center;\n",
              "  background-color: var(--sklearn-color-background);\n",
              "  position: relative;\n",
              "}\n",
              "\n",
              "#sk-container-id-1 div.sk-parallel-item {\n",
              "  display: flex;\n",
              "  flex-direction: column;\n",
              "}\n",
              "\n",
              "#sk-container-id-1 div.sk-parallel-item:first-child::after {\n",
              "  align-self: flex-end;\n",
              "  width: 50%;\n",
              "}\n",
              "\n",
              "#sk-container-id-1 div.sk-parallel-item:last-child::after {\n",
              "  align-self: flex-start;\n",
              "  width: 50%;\n",
              "}\n",
              "\n",
              "#sk-container-id-1 div.sk-parallel-item:only-child::after {\n",
              "  width: 0;\n",
              "}\n",
              "\n",
              "/* Serial-specific style estimator block */\n",
              "\n",
              "#sk-container-id-1 div.sk-serial {\n",
              "  display: flex;\n",
              "  flex-direction: column;\n",
              "  align-items: center;\n",
              "  background-color: var(--sklearn-color-background);\n",
              "  padding-right: 1em;\n",
              "  padding-left: 1em;\n",
              "}\n",
              "\n",
              "\n",
              "/* Toggleable style: style used for estimator/Pipeline/ColumnTransformer box that is\n",
              "clickable and can be expanded/collapsed.\n",
              "- Pipeline and ColumnTransformer use this feature and define the default style\n",
              "- Estimators will overwrite some part of the style using the `sk-estimator` class\n",
              "*/\n",
              "\n",
              "/* Pipeline and ColumnTransformer style (default) */\n",
              "\n",
              "#sk-container-id-1 div.sk-toggleable {\n",
              "  /* Default theme specific background. It is overwritten whether we have a\n",
              "  specific estimator or a Pipeline/ColumnTransformer */\n",
              "  background-color: var(--sklearn-color-background);\n",
              "}\n",
              "\n",
              "/* Toggleable label */\n",
              "#sk-container-id-1 label.sk-toggleable__label {\n",
              "  cursor: pointer;\n",
              "  display: flex;\n",
              "  width: 100%;\n",
              "  margin-bottom: 0;\n",
              "  padding: 0.5em;\n",
              "  box-sizing: border-box;\n",
              "  text-align: center;\n",
              "  align-items: start;\n",
              "  justify-content: space-between;\n",
              "  gap: 0.5em;\n",
              "}\n",
              "\n",
              "#sk-container-id-1 label.sk-toggleable__label .caption {\n",
              "  font-size: 0.6rem;\n",
              "  font-weight: lighter;\n",
              "  color: var(--sklearn-color-text-muted);\n",
              "}\n",
              "\n",
              "#sk-container-id-1 label.sk-toggleable__label-arrow:before {\n",
              "  /* Arrow on the left of the label */\n",
              "  content: \"▸\";\n",
              "  float: left;\n",
              "  margin-right: 0.25em;\n",
              "  color: var(--sklearn-color-icon);\n",
              "}\n",
              "\n",
              "#sk-container-id-1 label.sk-toggleable__label-arrow:hover:before {\n",
              "  color: var(--sklearn-color-text);\n",
              "}\n",
              "\n",
              "/* Toggleable content - dropdown */\n",
              "\n",
              "#sk-container-id-1 div.sk-toggleable__content {\n",
              "  max-height: 0;\n",
              "  max-width: 0;\n",
              "  overflow: hidden;\n",
              "  text-align: left;\n",
              "  /* unfitted */\n",
              "  background-color: var(--sklearn-color-unfitted-level-0);\n",
              "}\n",
              "\n",
              "#sk-container-id-1 div.sk-toggleable__content.fitted {\n",
              "  /* fitted */\n",
              "  background-color: var(--sklearn-color-fitted-level-0);\n",
              "}\n",
              "\n",
              "#sk-container-id-1 div.sk-toggleable__content pre {\n",
              "  margin: 0.2em;\n",
              "  border-radius: 0.25em;\n",
              "  color: var(--sklearn-color-text);\n",
              "  /* unfitted */\n",
              "  background-color: var(--sklearn-color-unfitted-level-0);\n",
              "}\n",
              "\n",
              "#sk-container-id-1 div.sk-toggleable__content.fitted pre {\n",
              "  /* unfitted */\n",
              "  background-color: var(--sklearn-color-fitted-level-0);\n",
              "}\n",
              "\n",
              "#sk-container-id-1 input.sk-toggleable__control:checked~div.sk-toggleable__content {\n",
              "  /* Expand drop-down */\n",
              "  max-height: 200px;\n",
              "  max-width: 100%;\n",
              "  overflow: auto;\n",
              "}\n",
              "\n",
              "#sk-container-id-1 input.sk-toggleable__control:checked~label.sk-toggleable__label-arrow:before {\n",
              "  content: \"▾\";\n",
              "}\n",
              "\n",
              "/* Pipeline/ColumnTransformer-specific style */\n",
              "\n",
              "#sk-container-id-1 div.sk-label input.sk-toggleable__control:checked~label.sk-toggleable__label {\n",
              "  color: var(--sklearn-color-text);\n",
              "  background-color: var(--sklearn-color-unfitted-level-2);\n",
              "}\n",
              "\n",
              "#sk-container-id-1 div.sk-label.fitted input.sk-toggleable__control:checked~label.sk-toggleable__label {\n",
              "  background-color: var(--sklearn-color-fitted-level-2);\n",
              "}\n",
              "\n",
              "/* Estimator-specific style */\n",
              "\n",
              "/* Colorize estimator box */\n",
              "#sk-container-id-1 div.sk-estimator input.sk-toggleable__control:checked~label.sk-toggleable__label {\n",
              "  /* unfitted */\n",
              "  background-color: var(--sklearn-color-unfitted-level-2);\n",
              "}\n",
              "\n",
              "#sk-container-id-1 div.sk-estimator.fitted input.sk-toggleable__control:checked~label.sk-toggleable__label {\n",
              "  /* fitted */\n",
              "  background-color: var(--sklearn-color-fitted-level-2);\n",
              "}\n",
              "\n",
              "#sk-container-id-1 div.sk-label label.sk-toggleable__label,\n",
              "#sk-container-id-1 div.sk-label label {\n",
              "  /* The background is the default theme color */\n",
              "  color: var(--sklearn-color-text-on-default-background);\n",
              "}\n",
              "\n",
              "/* On hover, darken the color of the background */\n",
              "#sk-container-id-1 div.sk-label:hover label.sk-toggleable__label {\n",
              "  color: var(--sklearn-color-text);\n",
              "  background-color: var(--sklearn-color-unfitted-level-2);\n",
              "}\n",
              "\n",
              "/* Label box, darken color on hover, fitted */\n",
              "#sk-container-id-1 div.sk-label.fitted:hover label.sk-toggleable__label.fitted {\n",
              "  color: var(--sklearn-color-text);\n",
              "  background-color: var(--sklearn-color-fitted-level-2);\n",
              "}\n",
              "\n",
              "/* Estimator label */\n",
              "\n",
              "#sk-container-id-1 div.sk-label label {\n",
              "  font-family: monospace;\n",
              "  font-weight: bold;\n",
              "  display: inline-block;\n",
              "  line-height: 1.2em;\n",
              "}\n",
              "\n",
              "#sk-container-id-1 div.sk-label-container {\n",
              "  text-align: center;\n",
              "}\n",
              "\n",
              "/* Estimator-specific */\n",
              "#sk-container-id-1 div.sk-estimator {\n",
              "  font-family: monospace;\n",
              "  border: 1px dotted var(--sklearn-color-border-box);\n",
              "  border-radius: 0.25em;\n",
              "  box-sizing: border-box;\n",
              "  margin-bottom: 0.5em;\n",
              "  /* unfitted */\n",
              "  background-color: var(--sklearn-color-unfitted-level-0);\n",
              "}\n",
              "\n",
              "#sk-container-id-1 div.sk-estimator.fitted {\n",
              "  /* fitted */\n",
              "  background-color: var(--sklearn-color-fitted-level-0);\n",
              "}\n",
              "\n",
              "/* on hover */\n",
              "#sk-container-id-1 div.sk-estimator:hover {\n",
              "  /* unfitted */\n",
              "  background-color: var(--sklearn-color-unfitted-level-2);\n",
              "}\n",
              "\n",
              "#sk-container-id-1 div.sk-estimator.fitted:hover {\n",
              "  /* fitted */\n",
              "  background-color: var(--sklearn-color-fitted-level-2);\n",
              "}\n",
              "\n",
              "/* Specification for estimator info (e.g. \"i\" and \"?\") */\n",
              "\n",
              "/* Common style for \"i\" and \"?\" */\n",
              "\n",
              ".sk-estimator-doc-link,\n",
              "a:link.sk-estimator-doc-link,\n",
              "a:visited.sk-estimator-doc-link {\n",
              "  float: right;\n",
              "  font-size: smaller;\n",
              "  line-height: 1em;\n",
              "  font-family: monospace;\n",
              "  background-color: var(--sklearn-color-background);\n",
              "  border-radius: 1em;\n",
              "  height: 1em;\n",
              "  width: 1em;\n",
              "  text-decoration: none !important;\n",
              "  margin-left: 0.5em;\n",
              "  text-align: center;\n",
              "  /* unfitted */\n",
              "  border: var(--sklearn-color-unfitted-level-1) 1pt solid;\n",
              "  color: var(--sklearn-color-unfitted-level-1);\n",
              "}\n",
              "\n",
              ".sk-estimator-doc-link.fitted,\n",
              "a:link.sk-estimator-doc-link.fitted,\n",
              "a:visited.sk-estimator-doc-link.fitted {\n",
              "  /* fitted */\n",
              "  border: var(--sklearn-color-fitted-level-1) 1pt solid;\n",
              "  color: var(--sklearn-color-fitted-level-1);\n",
              "}\n",
              "\n",
              "/* On hover */\n",
              "div.sk-estimator:hover .sk-estimator-doc-link:hover,\n",
              ".sk-estimator-doc-link:hover,\n",
              "div.sk-label-container:hover .sk-estimator-doc-link:hover,\n",
              ".sk-estimator-doc-link:hover {\n",
              "  /* unfitted */\n",
              "  background-color: var(--sklearn-color-unfitted-level-3);\n",
              "  color: var(--sklearn-color-background);\n",
              "  text-decoration: none;\n",
              "}\n",
              "\n",
              "div.sk-estimator.fitted:hover .sk-estimator-doc-link.fitted:hover,\n",
              ".sk-estimator-doc-link.fitted:hover,\n",
              "div.sk-label-container:hover .sk-estimator-doc-link.fitted:hover,\n",
              ".sk-estimator-doc-link.fitted:hover {\n",
              "  /* fitted */\n",
              "  background-color: var(--sklearn-color-fitted-level-3);\n",
              "  color: var(--sklearn-color-background);\n",
              "  text-decoration: none;\n",
              "}\n",
              "\n",
              "/* Span, style for the box shown on hovering the info icon */\n",
              ".sk-estimator-doc-link span {\n",
              "  display: none;\n",
              "  z-index: 9999;\n",
              "  position: relative;\n",
              "  font-weight: normal;\n",
              "  right: .2ex;\n",
              "  padding: .5ex;\n",
              "  margin: .5ex;\n",
              "  width: min-content;\n",
              "  min-width: 20ex;\n",
              "  max-width: 50ex;\n",
              "  color: var(--sklearn-color-text);\n",
              "  box-shadow: 2pt 2pt 4pt #999;\n",
              "  /* unfitted */\n",
              "  background: var(--sklearn-color-unfitted-level-0);\n",
              "  border: .5pt solid var(--sklearn-color-unfitted-level-3);\n",
              "}\n",
              "\n",
              ".sk-estimator-doc-link.fitted span {\n",
              "  /* fitted */\n",
              "  background: var(--sklearn-color-fitted-level-0);\n",
              "  border: var(--sklearn-color-fitted-level-3);\n",
              "}\n",
              "\n",
              ".sk-estimator-doc-link:hover span {\n",
              "  display: block;\n",
              "}\n",
              "\n",
              "/* \"?\"-specific style due to the `<a>` HTML tag */\n",
              "\n",
              "#sk-container-id-1 a.estimator_doc_link {\n",
              "  float: right;\n",
              "  font-size: 1rem;\n",
              "  line-height: 1em;\n",
              "  font-family: monospace;\n",
              "  background-color: var(--sklearn-color-background);\n",
              "  border-radius: 1rem;\n",
              "  height: 1rem;\n",
              "  width: 1rem;\n",
              "  text-decoration: none;\n",
              "  /* unfitted */\n",
              "  color: var(--sklearn-color-unfitted-level-1);\n",
              "  border: var(--sklearn-color-unfitted-level-1) 1pt solid;\n",
              "}\n",
              "\n",
              "#sk-container-id-1 a.estimator_doc_link.fitted {\n",
              "  /* fitted */\n",
              "  border: var(--sklearn-color-fitted-level-1) 1pt solid;\n",
              "  color: var(--sklearn-color-fitted-level-1);\n",
              "}\n",
              "\n",
              "/* On hover */\n",
              "#sk-container-id-1 a.estimator_doc_link:hover {\n",
              "  /* unfitted */\n",
              "  background-color: var(--sklearn-color-unfitted-level-3);\n",
              "  color: var(--sklearn-color-background);\n",
              "  text-decoration: none;\n",
              "}\n",
              "\n",
              "#sk-container-id-1 a.estimator_doc_link.fitted:hover {\n",
              "  /* fitted */\n",
              "  background-color: var(--sklearn-color-fitted-level-3);\n",
              "}\n",
              "</style><div id=\"sk-container-id-1\" class=\"sk-top-container\"><div class=\"sk-text-repr-fallback\"><pre>RandomForestRegressor(random_state=42)</pre><b>In a Jupyter environment, please rerun this cell to show the HTML representation or trust the notebook. <br />On GitHub, the HTML representation is unable to render, please try loading this page with nbviewer.org.</b></div><div class=\"sk-container\" hidden><div class=\"sk-item\"><div class=\"sk-estimator fitted sk-toggleable\"><input class=\"sk-toggleable__control sk-hidden--visually\" id=\"sk-estimator-id-1\" type=\"checkbox\" checked><label for=\"sk-estimator-id-1\" class=\"sk-toggleable__label fitted sk-toggleable__label-arrow\"><div><div>RandomForestRegressor</div></div><div><a class=\"sk-estimator-doc-link fitted\" rel=\"noreferrer\" target=\"_blank\" href=\"https://scikit-learn.org/1.6/modules/generated/sklearn.ensemble.RandomForestRegressor.html\">?<span>Documentation for RandomForestRegressor</span></a><span class=\"sk-estimator-doc-link fitted\">i<span>Fitted</span></span></div></label><div class=\"sk-toggleable__content fitted\"><pre>RandomForestRegressor(random_state=42)</pre></div> </div></div></div></div>"
            ]
          },
          "metadata": {},
          "execution_count": 38
        }
      ]
    },
    {
      "cell_type": "markdown",
      "source": [
        "**Random Forest Results**\n",
        "\n"
      ],
      "metadata": {
        "id": "cV7kfn48k-Wu"
      }
    },
    {
      "cell_type": "code",
      "source": [
        "from sklearn.metrics import mean_squared_error, r2_score\n",
        "\n",
        "\n",
        "y_pred = rf_model.predict(X_test)\n",
        "mse = mean_squared_error(y_test, y_pred)\n",
        "r2 = r2_score(y_test, y_pred)\n",
        "\n",
        "print(f\"Mean Squared Error: {mse}\")\n",
        "print(f\"R2 Score: {r2}\")"
      ],
      "metadata": {
        "colab": {
          "base_uri": "https://localhost:8080/"
        },
        "id": "9hEpNuDkzKdS",
        "outputId": "3da00b61-7ac1-4394-b651-332569f591d1"
      },
      "execution_count": null,
      "outputs": [
        {
          "output_type": "stream",
          "name": "stdout",
          "text": [
            "Mean Squared Error: 0.6509166281794222\n",
            "R2 Score: 0.21491178317120874\n"
          ]
        }
      ]
    },
    {
      "cell_type": "markdown",
      "source": [
        "**Artificial Neural Network (ANN)**"
      ],
      "metadata": {
        "id": "k5zruuVllz1r"
      }
    },
    {
      "cell_type": "code",
      "source": [
        "import numpy as np\n",
        "import pandas as pd\n",
        "from sklearn.model_selection import train_test_split\n",
        "from sklearn.preprocessing import StandardScaler\n",
        "from sklearn.metrics import mean_squared_error, r2_score\n",
        "import tensorflow as tf\n",
        "from tensorflow.keras.models import Sequential\n",
        "from tensorflow.keras.layers import Dense, Dropout\n"
      ],
      "metadata": {
        "id": "fk0DiPiL2eJ8"
      },
      "execution_count": null,
      "outputs": []
    },
    {
      "cell_type": "code",
      "source": [
        "# df_encoded already contains processed features\n",
        "X = df_encoded.drop(columns=['price'])\n",
        "y = df_encoded['price']\n",
        "\n",
        "X_train, X_test, y_train, y_test = train_test_split(X, y, test_size=0.2, random_state=42)\n",
        "\n",
        "# Scale numerical features\n",
        "scaler = StandardScaler()\n",
        "X_train_scaled = scaler.fit_transform(X_train)\n",
        "X_test_scaled = scaler.transform(X_test)\n"
      ],
      "metadata": {
        "id": "ScJThMM_2gCE"
      },
      "execution_count": null,
      "outputs": []
    },
    {
      "cell_type": "code",
      "source": [
        "# Define the model\n",
        "model = Sequential([\n",
        "    Dense(128, activation='relu', input_shape=(X_train_scaled.shape[1],)),\n",
        "    Dropout(0.2),\n",
        "    Dense(64, activation='relu'),\n",
        "    Dropout(0.2),\n",
        "    Dense(32, activation='relu'),\n",
        "    Dense(1)  # Output layer for regression\n",
        "])\n"
      ],
      "metadata": {
        "colab": {
          "base_uri": "https://localhost:8080/"
        },
        "id": "vNnc3fV02h8F",
        "outputId": "2214a813-7f1c-434b-ecca-da05a6c9f2a6"
      },
      "execution_count": null,
      "outputs": [
        {
          "output_type": "stream",
          "name": "stderr",
          "text": [
            "/usr/local/lib/python3.11/dist-packages/keras/src/layers/core/dense.py:87: UserWarning: Do not pass an `input_shape`/`input_dim` argument to a layer. When using Sequential models, prefer using an `Input(shape)` object as the first layer in the model instead.\n",
            "  super().__init__(activity_regularizer=activity_regularizer, **kwargs)\n"
          ]
        }
      ]
    },
    {
      "cell_type": "code",
      "source": [
        "model.compile(optimizer='adam', loss='mse', metrics=['mae'])\n"
      ],
      "metadata": {
        "id": "05AiFAv52lcM"
      },
      "execution_count": null,
      "outputs": []
    },
    {
      "cell_type": "code",
      "source": [
        "history = model.fit(X_train_scaled, y_train, epochs=100, batch_size=32, validation_split=0.1, verbose=1)\n"
      ],
      "metadata": {
        "colab": {
          "base_uri": "https://localhost:8080/"
        },
        "id": "SzJO2XX12o4s",
        "outputId": "7c030372-fe69-4537-c2c0-ccc0cff0615b"
      },
      "execution_count": null,
      "outputs": [
        {
          "output_type": "stream",
          "name": "stdout",
          "text": [
            "Epoch 1/100\n",
            "\u001b[1m289/289\u001b[0m \u001b[32m━━━━━━━━━━━━━━━━━━━━\u001b[0m\u001b[37m\u001b[0m \u001b[1m6s\u001b[0m 4ms/step - loss: 0.9897 - mae: 0.3877 - val_loss: 1.9648 - val_mae: 0.3134\n",
            "Epoch 2/100\n",
            "\u001b[1m289/289\u001b[0m \u001b[32m━━━━━━━━━━━━━━━━━━━━\u001b[0m\u001b[37m\u001b[0m \u001b[1m1s\u001b[0m 3ms/step - loss: 0.6186 - mae: 0.3066 - val_loss: 1.9673 - val_mae: 0.2962\n",
            "Epoch 3/100\n",
            "\u001b[1m289/289\u001b[0m \u001b[32m━━━━━━━━━━━━━━━━━━━━\u001b[0m\u001b[37m\u001b[0m \u001b[1m1s\u001b[0m 3ms/step - loss: 0.5312 - mae: 0.2662 - val_loss: 1.9261 - val_mae: 0.2953\n",
            "Epoch 4/100\n",
            "\u001b[1m289/289\u001b[0m \u001b[32m━━━━━━━━━━━━━━━━━━━━\u001b[0m\u001b[37m\u001b[0m \u001b[1m1s\u001b[0m 3ms/step - loss: 0.7614 - mae: 0.2847 - val_loss: 1.9687 - val_mae: 0.2824\n",
            "Epoch 5/100\n",
            "\u001b[1m289/289\u001b[0m \u001b[32m━━━━━━━━━━━━━━━━━━━━\u001b[0m\u001b[37m\u001b[0m \u001b[1m1s\u001b[0m 3ms/step - loss: 0.4652 - mae: 0.2652 - val_loss: 2.1304 - val_mae: 0.2949\n",
            "Epoch 6/100\n",
            "\u001b[1m289/289\u001b[0m \u001b[32m━━━━━━━━━━━━━━━━━━━━\u001b[0m\u001b[37m\u001b[0m \u001b[1m1s\u001b[0m 3ms/step - loss: 0.4967 - mae: 0.2602 - val_loss: 1.9471 - val_mae: 0.2616\n",
            "Epoch 7/100\n",
            "\u001b[1m289/289\u001b[0m \u001b[32m━━━━━━━━━━━━━━━━━━━━\u001b[0m\u001b[37m\u001b[0m \u001b[1m1s\u001b[0m 3ms/step - loss: 0.6106 - mae: 0.2691 - val_loss: 1.9857 - val_mae: 0.2777\n",
            "Epoch 8/100\n",
            "\u001b[1m289/289\u001b[0m \u001b[32m━━━━━━━━━━━━━━━━━━━━\u001b[0m\u001b[37m\u001b[0m \u001b[1m1s\u001b[0m 3ms/step - loss: 0.7622 - mae: 0.2776 - val_loss: 2.0731 - val_mae: 0.2927\n",
            "Epoch 9/100\n",
            "\u001b[1m289/289\u001b[0m \u001b[32m━━━━━━━━━━━━━━━━━━━━\u001b[0m\u001b[37m\u001b[0m \u001b[1m2s\u001b[0m 4ms/step - loss: 0.5857 - mae: 0.2581 - val_loss: 2.1838 - val_mae: 0.3129\n",
            "Epoch 10/100\n",
            "\u001b[1m289/289\u001b[0m \u001b[32m━━━━━━━━━━━━━━━━━━━━\u001b[0m\u001b[37m\u001b[0m \u001b[1m1s\u001b[0m 5ms/step - loss: 0.5576 - mae: 0.2520 - val_loss: 2.3521 - val_mae: 0.3062\n",
            "Epoch 11/100\n",
            "\u001b[1m289/289\u001b[0m \u001b[32m━━━━━━━━━━━━━━━━━━━━\u001b[0m\u001b[37m\u001b[0m \u001b[1m2s\u001b[0m 3ms/step - loss: 0.5021 - mae: 0.2460 - val_loss: 2.4787 - val_mae: 0.3251\n",
            "Epoch 12/100\n",
            "\u001b[1m289/289\u001b[0m \u001b[32m━━━━━━━━━━━━━━━━━━━━\u001b[0m\u001b[37m\u001b[0m \u001b[1m1s\u001b[0m 3ms/step - loss: 0.5042 - mae: 0.2614 - val_loss: 2.7800 - val_mae: 0.3345\n",
            "Epoch 13/100\n",
            "\u001b[1m289/289\u001b[0m \u001b[32m━━━━━━━━━━━━━━━━━━━━\u001b[0m\u001b[37m\u001b[0m \u001b[1m1s\u001b[0m 3ms/step - loss: 0.5810 - mae: 0.2460 - val_loss: 2.9900 - val_mae: 0.3355\n",
            "Epoch 14/100\n",
            "\u001b[1m289/289\u001b[0m \u001b[32m━━━━━━━━━━━━━━━━━━━━\u001b[0m\u001b[37m\u001b[0m \u001b[1m1s\u001b[0m 3ms/step - loss: 0.4820 - mae: 0.2398 - val_loss: 3.0516 - val_mae: 0.3319\n",
            "Epoch 15/100\n",
            "\u001b[1m289/289\u001b[0m \u001b[32m━━━━━━━━━━━━━━━━━━━━\u001b[0m\u001b[37m\u001b[0m \u001b[1m1s\u001b[0m 3ms/step - loss: 0.3791 - mae: 0.2291 - val_loss: 4.4928 - val_mae: 0.4104\n",
            "Epoch 16/100\n",
            "\u001b[1m289/289\u001b[0m \u001b[32m━━━━━━━━━━━━━━━━━━━━\u001b[0m\u001b[37m\u001b[0m \u001b[1m1s\u001b[0m 3ms/step - loss: 0.4983 - mae: 0.2409 - val_loss: 3.5578 - val_mae: 0.3522\n",
            "Epoch 17/100\n",
            "\u001b[1m289/289\u001b[0m \u001b[32m━━━━━━━━━━━━━━━━━━━━\u001b[0m\u001b[37m\u001b[0m \u001b[1m1s\u001b[0m 3ms/step - loss: 0.5779 - mae: 0.2462 - val_loss: 3.2535 - val_mae: 0.3347\n",
            "Epoch 18/100\n",
            "\u001b[1m289/289\u001b[0m \u001b[32m━━━━━━━━━━━━━━━━━━━━\u001b[0m\u001b[37m\u001b[0m \u001b[1m1s\u001b[0m 3ms/step - loss: 0.5417 - mae: 0.2536 - val_loss: 3.5381 - val_mae: 0.3440\n",
            "Epoch 19/100\n",
            "\u001b[1m289/289\u001b[0m \u001b[32m━━━━━━━━━━━━━━━━━━━━\u001b[0m\u001b[37m\u001b[0m \u001b[1m1s\u001b[0m 4ms/step - loss: 0.5317 - mae: 0.2377 - val_loss: 2.7835 - val_mae: 0.3301\n",
            "Epoch 20/100\n",
            "\u001b[1m289/289\u001b[0m \u001b[32m━━━━━━━━━━━━━━━━━━━━\u001b[0m\u001b[37m\u001b[0m \u001b[1m1s\u001b[0m 4ms/step - loss: 0.4429 - mae: 0.2355 - val_loss: 3.7022 - val_mae: 0.3571\n",
            "Epoch 21/100\n",
            "\u001b[1m289/289\u001b[0m \u001b[32m━━━━━━━━━━━━━━━━━━━━\u001b[0m\u001b[37m\u001b[0m \u001b[1m1s\u001b[0m 3ms/step - loss: 0.8343 - mae: 0.2580 - val_loss: 5.8727 - val_mae: 0.4322\n",
            "Epoch 22/100\n",
            "\u001b[1m289/289\u001b[0m \u001b[32m━━━━━━━━━━━━━━━━━━━━\u001b[0m\u001b[37m\u001b[0m \u001b[1m1s\u001b[0m 3ms/step - loss: 0.5541 - mae: 0.2440 - val_loss: 3.7753 - val_mae: 0.3609\n",
            "Epoch 23/100\n",
            "\u001b[1m289/289\u001b[0m \u001b[32m━━━━━━━━━━━━━━━━━━━━\u001b[0m\u001b[37m\u001b[0m \u001b[1m1s\u001b[0m 3ms/step - loss: 0.4198 - mae: 0.2310 - val_loss: 4.2176 - val_mae: 0.3802\n",
            "Epoch 24/100\n",
            "\u001b[1m289/289\u001b[0m \u001b[32m━━━━━━━━━━━━━━━━━━━━\u001b[0m\u001b[37m\u001b[0m \u001b[1m1s\u001b[0m 3ms/step - loss: 0.5054 - mae: 0.2317 - val_loss: 3.4652 - val_mae: 0.3515\n",
            "Epoch 25/100\n",
            "\u001b[1m289/289\u001b[0m \u001b[32m━━━━━━━━━━━━━━━━━━━━\u001b[0m\u001b[37m\u001b[0m \u001b[1m1s\u001b[0m 3ms/step - loss: 0.4181 - mae: 0.2296 - val_loss: 5.0296 - val_mae: 0.4049\n",
            "Epoch 26/100\n",
            "\u001b[1m289/289\u001b[0m \u001b[32m━━━━━━━━━━━━━━━━━━━━\u001b[0m\u001b[37m\u001b[0m \u001b[1m1s\u001b[0m 3ms/step - loss: 0.7477 - mae: 0.2454 - val_loss: 5.7501 - val_mae: 0.4289\n",
            "Epoch 27/100\n",
            "\u001b[1m289/289\u001b[0m \u001b[32m━━━━━━━━━━━━━━━━━━━━\u001b[0m\u001b[37m\u001b[0m \u001b[1m1s\u001b[0m 3ms/step - loss: 0.5070 - mae: 0.2332 - val_loss: 6.0525 - val_mae: 0.4132\n",
            "Epoch 28/100\n",
            "\u001b[1m289/289\u001b[0m \u001b[32m━━━━━━━━━━━━━━━━━━━━\u001b[0m\u001b[37m\u001b[0m \u001b[1m1s\u001b[0m 3ms/step - loss: 0.5474 - mae: 0.2413 - val_loss: 6.6879 - val_mae: 0.4213\n",
            "Epoch 29/100\n",
            "\u001b[1m289/289\u001b[0m \u001b[32m━━━━━━━━━━━━━━━━━━━━\u001b[0m\u001b[37m\u001b[0m \u001b[1m1s\u001b[0m 3ms/step - loss: 0.5290 - mae: 0.2281 - val_loss: 6.5488 - val_mae: 0.4235\n",
            "Epoch 30/100\n",
            "\u001b[1m289/289\u001b[0m \u001b[32m━━━━━━━━━━━━━━━━━━━━\u001b[0m\u001b[37m\u001b[0m \u001b[1m1s\u001b[0m 3ms/step - loss: 0.3791 - mae: 0.2231 - val_loss: 5.1337 - val_mae: 0.3918\n",
            "Epoch 31/100\n",
            "\u001b[1m289/289\u001b[0m \u001b[32m━━━━━━━━━━━━━━━━━━━━\u001b[0m\u001b[37m\u001b[0m \u001b[1m2s\u001b[0m 4ms/step - loss: 0.4363 - mae: 0.2233 - val_loss: 5.0408 - val_mae: 0.4059\n",
            "Epoch 32/100\n",
            "\u001b[1m289/289\u001b[0m \u001b[32m━━━━━━━━━━━━━━━━━━━━\u001b[0m\u001b[37m\u001b[0m \u001b[1m2s\u001b[0m 3ms/step - loss: 0.4339 - mae: 0.2342 - val_loss: 3.2363 - val_mae: 0.3424\n",
            "Epoch 33/100\n",
            "\u001b[1m289/289\u001b[0m \u001b[32m━━━━━━━━━━━━━━━━━━━━\u001b[0m\u001b[37m\u001b[0m \u001b[1m1s\u001b[0m 3ms/step - loss: 0.3709 - mae: 0.2200 - val_loss: 5.0640 - val_mae: 0.3989\n",
            "Epoch 34/100\n",
            "\u001b[1m289/289\u001b[0m \u001b[32m━━━━━━━━━━━━━━━━━━━━\u001b[0m\u001b[37m\u001b[0m \u001b[1m1s\u001b[0m 3ms/step - loss: 0.5245 - mae: 0.2324 - val_loss: 5.8344 - val_mae: 0.4138\n",
            "Epoch 35/100\n",
            "\u001b[1m289/289\u001b[0m \u001b[32m━━━━━━━━━━━━━━━━━━━━\u001b[0m\u001b[37m\u001b[0m \u001b[1m1s\u001b[0m 3ms/step - loss: 0.3495 - mae: 0.2205 - val_loss: 3.5413 - val_mae: 0.3558\n",
            "Epoch 36/100\n",
            "\u001b[1m289/289\u001b[0m \u001b[32m━━━━━━━━━━━━━━━━━━━━\u001b[0m\u001b[37m\u001b[0m \u001b[1m1s\u001b[0m 3ms/step - loss: 0.5704 - mae: 0.2404 - val_loss: 3.6450 - val_mae: 0.3503\n",
            "Epoch 37/100\n",
            "\u001b[1m289/289\u001b[0m \u001b[32m━━━━━━━━━━━━━━━━━━━━\u001b[0m\u001b[37m\u001b[0m \u001b[1m1s\u001b[0m 3ms/step - loss: 0.3626 - mae: 0.2165 - val_loss: 3.1634 - val_mae: 0.3456\n",
            "Epoch 38/100\n",
            "\u001b[1m289/289\u001b[0m \u001b[32m━━━━━━━━━━━━━━━━━━━━\u001b[0m\u001b[37m\u001b[0m \u001b[1m1s\u001b[0m 3ms/step - loss: 0.4628 - mae: 0.2324 - val_loss: 3.7335 - val_mae: 0.3612\n",
            "Epoch 39/100\n",
            "\u001b[1m289/289\u001b[0m \u001b[32m━━━━━━━━━━━━━━━━━━━━\u001b[0m\u001b[37m\u001b[0m \u001b[1m1s\u001b[0m 3ms/step - loss: 0.4107 - mae: 0.2199 - val_loss: 2.9040 - val_mae: 0.3251\n",
            "Epoch 40/100\n",
            "\u001b[1m289/289\u001b[0m \u001b[32m━━━━━━━━━━━━━━━━━━━━\u001b[0m\u001b[37m\u001b[0m \u001b[1m2s\u001b[0m 4ms/step - loss: 0.4377 - mae: 0.2202 - val_loss: 3.0966 - val_mae: 0.3298\n",
            "Epoch 41/100\n",
            "\u001b[1m289/289\u001b[0m \u001b[32m━━━━━━━━━━━━━━━━━━━━\u001b[0m\u001b[37m\u001b[0m \u001b[1m1s\u001b[0m 4ms/step - loss: 0.5203 - mae: 0.2384 - val_loss: 4.3502 - val_mae: 0.3692\n",
            "Epoch 42/100\n",
            "\u001b[1m289/289\u001b[0m \u001b[32m━━━━━━━━━━━━━━━━━━━━\u001b[0m\u001b[37m\u001b[0m \u001b[1m2s\u001b[0m 3ms/step - loss: 0.4460 - mae: 0.2246 - val_loss: 2.7858 - val_mae: 0.3287\n",
            "Epoch 43/100\n",
            "\u001b[1m289/289\u001b[0m \u001b[32m━━━━━━━━━━━━━━━━━━━━\u001b[0m\u001b[37m\u001b[0m \u001b[1m1s\u001b[0m 3ms/step - loss: 0.4014 - mae: 0.2245 - val_loss: 3.4522 - val_mae: 0.3600\n",
            "Epoch 44/100\n",
            "\u001b[1m289/289\u001b[0m \u001b[32m━━━━━━━━━━━━━━━━━━━━\u001b[0m\u001b[37m\u001b[0m \u001b[1m1s\u001b[0m 3ms/step - loss: 0.5902 - mae: 0.2364 - val_loss: 2.8042 - val_mae: 0.3309\n",
            "Epoch 45/100\n",
            "\u001b[1m289/289\u001b[0m \u001b[32m━━━━━━━━━━━━━━━━━━━━\u001b[0m\u001b[37m\u001b[0m \u001b[1m1s\u001b[0m 3ms/step - loss: 0.4412 - mae: 0.2143 - val_loss: 2.3546 - val_mae: 0.2942\n",
            "Epoch 46/100\n",
            "\u001b[1m289/289\u001b[0m \u001b[32m━━━━━━━━━━━━━━━━━━━━\u001b[0m\u001b[37m\u001b[0m \u001b[1m1s\u001b[0m 3ms/step - loss: 0.3225 - mae: 0.2181 - val_loss: 5.9130 - val_mae: 0.4546\n",
            "Epoch 47/100\n",
            "\u001b[1m289/289\u001b[0m \u001b[32m━━━━━━━━━━━━━━━━━━━━\u001b[0m\u001b[37m\u001b[0m \u001b[1m1s\u001b[0m 3ms/step - loss: 0.4034 - mae: 0.2376 - val_loss: 3.3317 - val_mae: 0.3527\n",
            "Epoch 48/100\n",
            "\u001b[1m289/289\u001b[0m \u001b[32m━━━━━━━━━━━━━━━━━━━━\u001b[0m\u001b[37m\u001b[0m \u001b[1m1s\u001b[0m 3ms/step - loss: 0.3716 - mae: 0.2194 - val_loss: 4.5472 - val_mae: 0.3738\n",
            "Epoch 49/100\n",
            "\u001b[1m289/289\u001b[0m \u001b[32m━━━━━━━━━━━━━━━━━━━━\u001b[0m\u001b[37m\u001b[0m \u001b[1m1s\u001b[0m 3ms/step - loss: 0.4472 - mae: 0.2250 - val_loss: 2.1907 - val_mae: 0.2974\n",
            "Epoch 50/100\n",
            "\u001b[1m289/289\u001b[0m \u001b[32m━━━━━━━━━━━━━━━━━━━━\u001b[0m\u001b[37m\u001b[0m \u001b[1m2s\u001b[0m 4ms/step - loss: 0.4346 - mae: 0.2249 - val_loss: 2.2685 - val_mae: 0.3006\n",
            "Epoch 51/100\n",
            "\u001b[1m289/289\u001b[0m \u001b[32m━━━━━━━━━━━━━━━━━━━━\u001b[0m\u001b[37m\u001b[0m \u001b[1m1s\u001b[0m 4ms/step - loss: 0.3743 - mae: 0.2131 - val_loss: 2.8843 - val_mae: 0.3356\n",
            "Epoch 52/100\n",
            "\u001b[1m289/289\u001b[0m \u001b[32m━━━━━━━━━━━━━━━━━━━━\u001b[0m\u001b[37m\u001b[0m \u001b[1m2s\u001b[0m 3ms/step - loss: 0.5062 - mae: 0.2232 - val_loss: 2.7970 - val_mae: 0.3319\n",
            "Epoch 53/100\n",
            "\u001b[1m289/289\u001b[0m \u001b[32m━━━━━━━━━━━━━━━━━━━━\u001b[0m\u001b[37m\u001b[0m \u001b[1m1s\u001b[0m 3ms/step - loss: 0.4253 - mae: 0.2313 - val_loss: 2.8262 - val_mae: 0.3286\n",
            "Epoch 54/100\n",
            "\u001b[1m289/289\u001b[0m \u001b[32m━━━━━━━━━━━━━━━━━━━━\u001b[0m\u001b[37m\u001b[0m \u001b[1m1s\u001b[0m 3ms/step - loss: 0.3890 - mae: 0.2153 - val_loss: 3.3914 - val_mae: 0.3626\n",
            "Epoch 55/100\n",
            "\u001b[1m289/289\u001b[0m \u001b[32m━━━━━━━━━━━━━━━━━━━━\u001b[0m\u001b[37m\u001b[0m \u001b[1m1s\u001b[0m 3ms/step - loss: 0.4737 - mae: 0.2202 - val_loss: 2.7351 - val_mae: 0.3282\n",
            "Epoch 56/100\n",
            "\u001b[1m289/289\u001b[0m \u001b[32m━━━━━━━━━━━━━━━━━━━━\u001b[0m\u001b[37m\u001b[0m \u001b[1m1s\u001b[0m 3ms/step - loss: 0.4094 - mae: 0.2250 - val_loss: 2.7476 - val_mae: 0.3413\n",
            "Epoch 57/100\n",
            "\u001b[1m289/289\u001b[0m \u001b[32m━━━━━━━━━━━━━━━━━━━━\u001b[0m\u001b[37m\u001b[0m \u001b[1m1s\u001b[0m 3ms/step - loss: 0.5390 - mae: 0.2339 - val_loss: 2.5168 - val_mae: 0.3076\n",
            "Epoch 58/100\n",
            "\u001b[1m289/289\u001b[0m \u001b[32m━━━━━━━━━━━━━━━━━━━━\u001b[0m\u001b[37m\u001b[0m \u001b[1m1s\u001b[0m 3ms/step - loss: 0.4469 - mae: 0.2265 - val_loss: 3.2640 - val_mae: 0.3487\n",
            "Epoch 59/100\n",
            "\u001b[1m289/289\u001b[0m \u001b[32m━━━━━━━━━━━━━━━━━━━━\u001b[0m\u001b[37m\u001b[0m \u001b[1m1s\u001b[0m 3ms/step - loss: 0.6024 - mae: 0.2329 - val_loss: 3.6778 - val_mae: 0.3493\n",
            "Epoch 60/100\n",
            "\u001b[1m289/289\u001b[0m \u001b[32m━━━━━━━━━━━━━━━━━━━━\u001b[0m\u001b[37m\u001b[0m \u001b[1m1s\u001b[0m 4ms/step - loss: 0.4792 - mae: 0.2248 - val_loss: 3.5135 - val_mae: 0.3372\n",
            "Epoch 61/100\n",
            "\u001b[1m289/289\u001b[0m \u001b[32m━━━━━━━━━━━━━━━━━━━━\u001b[0m\u001b[37m\u001b[0m \u001b[1m2s\u001b[0m 5ms/step - loss: 0.4523 - mae: 0.2181 - val_loss: 2.6147 - val_mae: 0.3136\n",
            "Epoch 62/100\n",
            "\u001b[1m289/289\u001b[0m \u001b[32m━━━━━━━━━━━━━━━━━━━━\u001b[0m\u001b[37m\u001b[0m \u001b[1m1s\u001b[0m 4ms/step - loss: 0.2876 - mae: 0.2124 - val_loss: 3.5370 - val_mae: 0.3422\n",
            "Epoch 63/100\n",
            "\u001b[1m289/289\u001b[0m \u001b[32m━━━━━━━━━━━━━━━━━━━━\u001b[0m\u001b[37m\u001b[0m \u001b[1m1s\u001b[0m 3ms/step - loss: 0.4014 - mae: 0.2232 - val_loss: 2.4285 - val_mae: 0.3070\n",
            "Epoch 64/100\n",
            "\u001b[1m289/289\u001b[0m \u001b[32m━━━━━━━━━━━━━━━━━━━━\u001b[0m\u001b[37m\u001b[0m \u001b[1m1s\u001b[0m 3ms/step - loss: 0.4236 - mae: 0.2212 - val_loss: 2.4438 - val_mae: 0.3041\n",
            "Epoch 65/100\n",
            "\u001b[1m289/289\u001b[0m \u001b[32m━━━━━━━━━━━━━━━━━━━━\u001b[0m\u001b[37m\u001b[0m \u001b[1m1s\u001b[0m 3ms/step - loss: 0.3251 - mae: 0.2057 - val_loss: 3.5464 - val_mae: 0.3462\n",
            "Epoch 66/100\n",
            "\u001b[1m289/289\u001b[0m \u001b[32m━━━━━━━━━━━━━━━━━━━━\u001b[0m\u001b[37m\u001b[0m \u001b[1m1s\u001b[0m 3ms/step - loss: 0.3406 - mae: 0.2143 - val_loss: 3.7894 - val_mae: 0.3478\n",
            "Epoch 67/100\n",
            "\u001b[1m289/289\u001b[0m \u001b[32m━━━━━━━━━━━━━━━━━━━━\u001b[0m\u001b[37m\u001b[0m \u001b[1m1s\u001b[0m 3ms/step - loss: 0.4364 - mae: 0.2218 - val_loss: 2.6503 - val_mae: 0.3175\n",
            "Epoch 68/100\n",
            "\u001b[1m289/289\u001b[0m \u001b[32m━━━━━━━━━━━━━━━━━━━━\u001b[0m\u001b[37m\u001b[0m \u001b[1m1s\u001b[0m 3ms/step - loss: 0.4603 - mae: 0.2167 - val_loss: 2.2966 - val_mae: 0.2962\n",
            "Epoch 69/100\n",
            "\u001b[1m289/289\u001b[0m \u001b[32m━━━━━━━━━━━━━━━━━━━━\u001b[0m\u001b[37m\u001b[0m \u001b[1m1s\u001b[0m 3ms/step - loss: 0.3680 - mae: 0.2228 - val_loss: 1.9672 - val_mae: 0.2737\n",
            "Epoch 70/100\n",
            "\u001b[1m289/289\u001b[0m \u001b[32m━━━━━━━━━━━━━━━━━━━━\u001b[0m\u001b[37m\u001b[0m \u001b[1m1s\u001b[0m 3ms/step - loss: 0.4496 - mae: 0.2269 - val_loss: 2.1940 - val_mae: 0.2956\n",
            "Epoch 71/100\n",
            "\u001b[1m289/289\u001b[0m \u001b[32m━━━━━━━━━━━━━━━━━━━━\u001b[0m\u001b[37m\u001b[0m \u001b[1m1s\u001b[0m 3ms/step - loss: 0.3473 - mae: 0.2131 - val_loss: 2.7434 - val_mae: 0.3172\n",
            "Epoch 72/100\n",
            "\u001b[1m289/289\u001b[0m \u001b[32m━━━━━━━━━━━━━━━━━━━━\u001b[0m\u001b[37m\u001b[0m \u001b[1m2s\u001b[0m 4ms/step - loss: 0.6465 - mae: 0.2357 - val_loss: 2.5865 - val_mae: 0.3057\n",
            "Epoch 73/100\n",
            "\u001b[1m289/289\u001b[0m \u001b[32m━━━━━━━━━━━━━━━━━━━━\u001b[0m\u001b[37m\u001b[0m \u001b[1m1s\u001b[0m 4ms/step - loss: 0.3844 - mae: 0.2141 - val_loss: 2.5450 - val_mae: 0.3199\n",
            "Epoch 74/100\n",
            "\u001b[1m289/289\u001b[0m \u001b[32m━━━━━━━━━━━━━━━━━━━━\u001b[0m\u001b[37m\u001b[0m \u001b[1m2s\u001b[0m 3ms/step - loss: 0.3137 - mae: 0.2140 - val_loss: 3.2453 - val_mae: 0.3604\n",
            "Epoch 75/100\n",
            "\u001b[1m289/289\u001b[0m \u001b[32m━━━━━━━━━━━━━━━━━━━━\u001b[0m\u001b[37m\u001b[0m \u001b[1m1s\u001b[0m 3ms/step - loss: 0.5280 - mae: 0.2238 - val_loss: 2.3994 - val_mae: 0.3121\n",
            "Epoch 76/100\n",
            "\u001b[1m289/289\u001b[0m \u001b[32m━━━━━━━━━━━━━━━━━━━━\u001b[0m\u001b[37m\u001b[0m \u001b[1m1s\u001b[0m 3ms/step - loss: 0.4959 - mae: 0.2226 - val_loss: 3.6517 - val_mae: 0.3442\n",
            "Epoch 77/100\n",
            "\u001b[1m289/289\u001b[0m \u001b[32m━━━━━━━━━━━━━━━━━━━━\u001b[0m\u001b[37m\u001b[0m \u001b[1m1s\u001b[0m 3ms/step - loss: 0.3248 - mae: 0.2068 - val_loss: 3.4460 - val_mae: 0.3573\n",
            "Epoch 78/100\n",
            "\u001b[1m289/289\u001b[0m \u001b[32m━━━━━━━━━━━━━━━━━━━━\u001b[0m\u001b[37m\u001b[0m \u001b[1m1s\u001b[0m 3ms/step - loss: 0.5971 - mae: 0.2314 - val_loss: 4.3331 - val_mae: 0.3872\n",
            "Epoch 79/100\n",
            "\u001b[1m289/289\u001b[0m \u001b[32m━━━━━━━━━━━━━━━━━━━━\u001b[0m\u001b[37m\u001b[0m \u001b[1m1s\u001b[0m 3ms/step - loss: 0.7476 - mae: 0.2358 - val_loss: 3.1362 - val_mae: 0.3273\n",
            "Epoch 80/100\n",
            "\u001b[1m289/289\u001b[0m \u001b[32m━━━━━━━━━━━━━━━━━━━━\u001b[0m\u001b[37m\u001b[0m \u001b[1m1s\u001b[0m 3ms/step - loss: 0.2820 - mae: 0.2053 - val_loss: 3.0867 - val_mae: 0.3571\n",
            "Epoch 81/100\n",
            "\u001b[1m289/289\u001b[0m \u001b[32m━━━━━━━━━━━━━━━━━━━━\u001b[0m\u001b[37m\u001b[0m \u001b[1m2s\u001b[0m 4ms/step - loss: 0.3680 - mae: 0.2140 - val_loss: 3.2987 - val_mae: 0.3450\n",
            "Epoch 82/100\n",
            "\u001b[1m289/289\u001b[0m \u001b[32m━━━━━━━━━━━━━━━━━━━━\u001b[0m\u001b[37m\u001b[0m \u001b[1m2s\u001b[0m 3ms/step - loss: 0.3243 - mae: 0.2076 - val_loss: 2.0237 - val_mae: 0.2844\n",
            "Epoch 83/100\n",
            "\u001b[1m289/289\u001b[0m \u001b[32m━━━━━━━━━━━━━━━━━━━━\u001b[0m\u001b[37m\u001b[0m \u001b[1m1s\u001b[0m 3ms/step - loss: 0.3915 - mae: 0.2201 - val_loss: 2.1534 - val_mae: 0.3076\n",
            "Epoch 84/100\n",
            "\u001b[1m289/289\u001b[0m \u001b[32m━━━━━━━━━━━━━━━━━━━━\u001b[0m\u001b[37m\u001b[0m \u001b[1m1s\u001b[0m 3ms/step - loss: 0.2802 - mae: 0.2079 - val_loss: 2.0534 - val_mae: 0.2768\n",
            "Epoch 85/100\n",
            "\u001b[1m289/289\u001b[0m \u001b[32m━━━━━━━━━━━━━━━━━━━━\u001b[0m\u001b[37m\u001b[0m \u001b[1m1s\u001b[0m 3ms/step - loss: 0.3069 - mae: 0.2076 - val_loss: 2.0973 - val_mae: 0.2880\n",
            "Epoch 86/100\n",
            "\u001b[1m289/289\u001b[0m \u001b[32m━━━━━━━━━━━━━━━━━━━━\u001b[0m\u001b[37m\u001b[0m \u001b[1m1s\u001b[0m 3ms/step - loss: 0.3537 - mae: 0.2134 - val_loss: 2.1143 - val_mae: 0.3009\n",
            "Epoch 87/100\n",
            "\u001b[1m289/289\u001b[0m \u001b[32m━━━━━━━━━━━━━━━━━━━━\u001b[0m\u001b[37m\u001b[0m \u001b[1m1s\u001b[0m 3ms/step - loss: 0.3130 - mae: 0.2052 - val_loss: 2.1741 - val_mae: 0.2905\n",
            "Epoch 88/100\n",
            "\u001b[1m289/289\u001b[0m \u001b[32m━━━━━━━━━━━━━━━━━━━━\u001b[0m\u001b[37m\u001b[0m \u001b[1m1s\u001b[0m 3ms/step - loss: 0.3378 - mae: 0.2120 - val_loss: 1.8638 - val_mae: 0.2794\n",
            "Epoch 89/100\n",
            "\u001b[1m289/289\u001b[0m \u001b[32m━━━━━━━━━━━━━━━━━━━━\u001b[0m\u001b[37m\u001b[0m \u001b[1m1s\u001b[0m 3ms/step - loss: 0.4453 - mae: 0.2205 - val_loss: 1.9520 - val_mae: 0.2855\n",
            "Epoch 90/100\n",
            "\u001b[1m289/289\u001b[0m \u001b[32m━━━━━━━━━━━━━━━━━━━━\u001b[0m\u001b[37m\u001b[0m \u001b[1m1s\u001b[0m 3ms/step - loss: 0.3212 - mae: 0.2044 - val_loss: 1.8932 - val_mae: 0.2621\n",
            "Epoch 91/100\n",
            "\u001b[1m289/289\u001b[0m \u001b[32m━━━━━━━━━━━━━━━━━━━━\u001b[0m\u001b[37m\u001b[0m \u001b[1m2s\u001b[0m 4ms/step - loss: 0.3687 - mae: 0.2151 - val_loss: 1.8709 - val_mae: 0.2723\n",
            "Epoch 92/100\n",
            "\u001b[1m289/289\u001b[0m \u001b[32m━━━━━━━━━━━━━━━━━━━━\u001b[0m\u001b[37m\u001b[0m \u001b[1m1s\u001b[0m 4ms/step - loss: 0.3118 - mae: 0.2056 - val_loss: 1.9078 - val_mae: 0.3032\n",
            "Epoch 93/100\n",
            "\u001b[1m289/289\u001b[0m \u001b[32m━━━━━━━━━━━━━━━━━━━━\u001b[0m\u001b[37m\u001b[0m \u001b[1m1s\u001b[0m 4ms/step - loss: 0.3299 - mae: 0.2136 - val_loss: 1.8968 - val_mae: 0.2639\n",
            "Epoch 94/100\n",
            "\u001b[1m289/289\u001b[0m \u001b[32m━━━━━━━━━━━━━━━━━━━━\u001b[0m\u001b[37m\u001b[0m \u001b[1m1s\u001b[0m 3ms/step - loss: 0.3558 - mae: 0.2112 - val_loss: 1.8806 - val_mae: 0.2670\n",
            "Epoch 95/100\n",
            "\u001b[1m289/289\u001b[0m \u001b[32m━━━━━━━━━━━━━━━━━━━━\u001b[0m\u001b[37m\u001b[0m \u001b[1m1s\u001b[0m 3ms/step - loss: 0.4429 - mae: 0.2228 - val_loss: 1.9771 - val_mae: 0.2904\n",
            "Epoch 96/100\n",
            "\u001b[1m289/289\u001b[0m \u001b[32m━━━━━━━━━━━━━━━━━━━━\u001b[0m\u001b[37m\u001b[0m \u001b[1m1s\u001b[0m 3ms/step - loss: 0.3841 - mae: 0.2194 - val_loss: 1.8861 - val_mae: 0.2711\n",
            "Epoch 97/100\n",
            "\u001b[1m289/289\u001b[0m \u001b[32m━━━━━━━━━━━━━━━━━━━━\u001b[0m\u001b[37m\u001b[0m \u001b[1m1s\u001b[0m 3ms/step - loss: 0.2667 - mae: 0.1977 - val_loss: 1.9485 - val_mae: 0.2838\n",
            "Epoch 98/100\n",
            "\u001b[1m289/289\u001b[0m \u001b[32m━━━━━━━━━━━━━━━━━━━━\u001b[0m\u001b[37m\u001b[0m \u001b[1m1s\u001b[0m 3ms/step - loss: 0.4545 - mae: 0.2215 - val_loss: 1.8774 - val_mae: 0.2716\n",
            "Epoch 99/100\n",
            "\u001b[1m289/289\u001b[0m \u001b[32m━━━━━━━━━━━━━━━━━━━━\u001b[0m\u001b[37m\u001b[0m \u001b[1m1s\u001b[0m 3ms/step - loss: 0.4464 - mae: 0.2214 - val_loss: 1.9157 - val_mae: 0.2748\n",
            "Epoch 100/100\n",
            "\u001b[1m289/289\u001b[0m \u001b[32m━━━━━━━━━━━━━━━━━━━━\u001b[0m\u001b[37m\u001b[0m \u001b[1m1s\u001b[0m 3ms/step - loss: 0.4613 - mae: 0.2100 - val_loss: 1.8936 - val_mae: 0.2605\n"
          ]
        }
      ]
    },
    {
      "cell_type": "code",
      "source": [
        "# Predict\n",
        "y_pred = model.predict(X_test_scaled)\n",
        "\n",
        "# Metrics\n",
        "mse = mean_squared_error(y_test, y_pred)\n",
        "r2 = r2_score(y_test, y_pred)\n",
        "\n",
        "print(f\"Mean Squared Error (ANN): {mse}\")\n",
        "print(f\"R2 Score (ANN): {r2}\")\n"
      ],
      "metadata": {
        "colab": {
          "base_uri": "https://localhost:8080/"
        },
        "id": "bbymct_i3ISM",
        "outputId": "20d01f21-9322-45f7-bf22-12fde0886218"
      },
      "execution_count": null,
      "outputs": [
        {
          "output_type": "stream",
          "name": "stdout",
          "text": [
            "\u001b[1m81/81\u001b[0m \u001b[32m━━━━━━━━━━━━━━━━━━━━\u001b[0m\u001b[37m\u001b[0m \u001b[1m0s\u001b[0m 3ms/step\n",
            "Mean Squared Error (ANN): 0.5580436489939472\n",
            "R2 Score (ANN): 0.3269284047533566\n"
          ]
        }
      ]
    },
    {
      "cell_type": "code",
      "source": [
        "y_test_binary = (y_test > 0.5).astype(int)"
      ],
      "metadata": {
        "id": "rfWILH-Q4KME"
      },
      "execution_count": null,
      "outputs": []
    },
    {
      "cell_type": "code",
      "source": [
        "from sklearn.metrics import accuracy_score, precision_score, recall_score, f1_score\n",
        "\n",
        "y_pred_class = (model.predict(X_test_scaled) > 0.5).astype(int)\n",
        "\n",
        "print(\"Accuracy:\", accuracy_score(y_test_binary, y_pred_class))\n",
        "print(\"Precision:\", precision_score(y_test_binary, y_pred_class))\n",
        "print(\"Recall:\", recall_score(y_test_binary, y_pred_class))\n",
        "print(\"F1 Score:\", f1_score(y_test_binary, y_pred_class))\n"
      ],
      "metadata": {
        "colab": {
          "base_uri": "https://localhost:8080/"
        },
        "id": "4-DTOP1L3zYc",
        "outputId": "2c32a736-0049-4307-f8ba-5d865a5185e9"
      },
      "execution_count": null,
      "outputs": [
        {
          "output_type": "stream",
          "name": "stdout",
          "text": [
            "\u001b[1m81/81\u001b[0m \u001b[32m━━━━━━━━━━━━━━━━━━━━\u001b[0m\u001b[37m\u001b[0m \u001b[1m0s\u001b[0m 2ms/step\n",
            "Accuracy: 0.9394767668879344\n",
            "Precision: 0.620253164556962\n",
            "Recall: 0.5077720207253886\n",
            "F1 Score: 0.5584045584045584\n"
          ]
        }
      ]
    },
    {
      "cell_type": "markdown",
      "source": [
        "**Connfusion Matrix**"
      ],
      "metadata": {
        "id": "pDGK_5o5mFR7"
      }
    },
    {
      "cell_type": "code",
      "source": [
        "threshold = y_test.median()\n",
        "y_test_binary = (y_test > threshold).astype(int)\n",
        "\n",
        "from sklearn.metrics import confusion_matrix, ConfusionMatrixDisplay\n",
        "import matplotlib.pyplot as plt\n",
        "\n",
        "cm = confusion_matrix(y_test_binary, y_pred_class)\n",
        "disp = ConfusionMatrixDisplay(confusion_matrix=cm)\n",
        "disp.plot()\n",
        "plt.show()\n",
        "\n"
      ],
      "metadata": {
        "colab": {
          "base_uri": "https://localhost:8080/",
          "height": 449
        },
        "id": "UMyUjjuk4iVl",
        "outputId": "c6d492b2-487a-4a65-8df6-e17ff13cdeb9"
      },
      "execution_count": null,
      "outputs": [
        {
          "output_type": "display_data",
          "data": {
            "text/plain": [
              "<Figure size 640x480 with 2 Axes>"
            ],
            "image/png": "[encoded data removed]"
          },
          "metadata": {}
        }
      ]
    },
    {
      "cell_type": "markdown",
      "source": [
        "**ROC Curve**"
      ],
      "metadata": {
        "id": "jiIJF9WEmKfz"
      }
    },
    {
      "cell_type": "code",
      "source": [
        "from sklearn.metrics import roc_curve, auc\n",
        "import matplotlib.pyplot as plt\n",
        "\n",
        "threshold = y_test.median()\n",
        "y_test_binary = (y_test > threshold).astype(int)\n",
        "\n",
        "y_pred_prob = model.predict(X_test_scaled)\n",
        "\n",
        "fpr, tpr, thresholds = roc_curve(y_test_binary, y_pred_prob)\n",
        "roc_auc = auc(fpr, tpr)\n",
        "\n",
        "\n",
        "plt.figure()\n",
        "plt.plot(fpr, tpr, label=f\"AUC = {roc_auc:.2f}\")\n",
        "plt.plot([0, 1], [0, 1], 'k--')\n",
        "plt.xlabel('False Positive Rate')\n",
        "plt.ylabel('True Positive Rate')\n",
        "plt.title('ROC Curve')\n",
        "plt.legend(loc=\"lower right\")\n",
        "plt.show()\n"
      ],
      "metadata": {
        "colab": {
          "base_uri": "https://localhost:8080/",
          "height": 489
        },
        "id": "jCF0nYgj4zaE",
        "outputId": "d6bd4077-dc72-4d3a-ad9d-4b1e27babad4"
      },
      "execution_count": null,
      "outputs": [
        {
          "output_type": "stream",
          "name": "stdout",
          "text": [
            "\u001b[1m81/81\u001b[0m \u001b[32m━━━━━━━━━━━━━━━━━━━━\u001b[0m\u001b[37m\u001b[0m \u001b[1m0s\u001b[0m 3ms/step\n"
          ]
        },
        {
          "output_type": "display_data",
          "data": {
            "text/plain": [
              "<Figure size 640x480 with 1 Axes>"
            ],
            "image/png": "[encoded data removed]"
          },
          "metadata": {}
        }
      ]
    },
    {
      "cell_type": "markdown",
      "source": [
        "**K-Fold Cross Validation**"
      ],
      "metadata": {
        "id": "2sOl3qHqmjtr"
      }
    },
    {
      "cell_type": "code",
      "source": [
        "import numpy as np\n",
        "from sklearn.model_selection import KFold\n",
        "from sklearn.preprocessing import StandardScaler\n",
        "from sklearn.metrics import mean_squared_error, r2_score\n",
        "import tensorflow as tf\n",
        "from tensorflow.keras.models import Sequential\n",
        "from tensorflow.keras.layers import Dense, Dropout\n",
        "\n",
        "\n",
        "X = df_encoded.drop(columns=['price']).values\n",
        "y = df_encoded['price'].values\n",
        "\n",
        "kf = KFold(n_splits=5, shuffle=True, random_state=42)\n",
        "\n",
        "mse_scores = []\n",
        "r2_scores  = []\n",
        "\n",
        "\n",
        "for fold, (train_idx, val_idx) in enumerate(kf.split(X), 1):\n",
        "\n",
        "    X_train, X_val = X[train_idx], X[val_idx]\n",
        "    y_train, y_val = y[train_idx], y[val_idx]\n",
        "\n",
        "\n",
        "    scaler = StandardScaler()\n",
        "    X_train_scaled = scaler.fit_transform(X_train)\n",
        "    X_val_scaled   = scaler.transform(X_val)\n",
        "\n",
        "    def build_model():\n",
        "        m = Sequential([\n",
        "            Dense(128, activation='relu', input_shape=(X_train_scaled.shape[1],)),\n",
        "            Dropout(0.2),\n",
        "            Dense(64, activation='relu'),\n",
        "            Dropout(0.2),\n",
        "            Dense(32, activation='relu'),\n",
        "            Dense(1),\n",
        "        ])\n",
        "        m.compile(optimizer='adam', loss='mse')\n",
        "        return m\n",
        "\n",
        "    model_cv = build_model()\n",
        "\n",
        "    model_cv.fit(\n",
        "        X_train_scaled, y_train,\n",
        "        epochs=50,\n",
        "        batch_size=32,\n",
        "        verbose=0\n",
        "    )\n",
        "\n",
        "\n",
        "    y_pred = model_cv.predict(X_val_scaled).flatten()\n",
        "    mse = mean_squared_error(y_val, y_pred)\n",
        "    r2  = r2_score(y_val, y_pred)\n",
        "\n",
        "    print(f\"Fold {fold} — MSE: {mse:.4f}, R2: {r2:.4f}\")\n",
        "    mse_scores.append(mse)\n",
        "    r2_scores.append(r2)\n",
        "\n",
        "print(f\"\\nAverage CV MSE: {np.mean(mse_scores):.4f} ± {np.std(mse_scores):.4f}\")\n",
        "print(f\"Average CV R2 : {np.mean(r2_scores):.4f} ± {np.std(r2_scores):.4f}\")\n"
      ],
      "metadata": {
        "colab": {
          "base_uri": "https://localhost:8080/"
        },
        "id": "ZT1HE8kR5HFd",
        "outputId": "0b9c542b-3a10-4860-8c1a-997d6ead49d2"
      },
      "execution_count": null,
      "outputs": [
        {
          "output_type": "stream",
          "name": "stderr",
          "text": [
            "/usr/local/lib/python3.11/dist-packages/keras/src/layers/core/dense.py:87: UserWarning: Do not pass an `input_shape`/`input_dim` argument to a layer. When using Sequential models, prefer using an `Input(shape)` object as the first layer in the model instead.\n",
            "  super().__init__(activity_regularizer=activity_regularizer, **kwargs)\n"
          ]
        },
        {
          "output_type": "stream",
          "name": "stdout",
          "text": [
            "\u001b[1m81/81\u001b[0m \u001b[32m━━━━━━━━━━━━━━━━━━━━\u001b[0m\u001b[37m\u001b[0m \u001b[1m0s\u001b[0m 2ms/step\n",
            "Fold 1 — MSE: 0.5758, R2: 0.3056\n"
          ]
        },
        {
          "output_type": "stream",
          "name": "stderr",
          "text": [
            "/usr/local/lib/python3.11/dist-packages/keras/src/layers/core/dense.py:87: UserWarning: Do not pass an `input_shape`/`input_dim` argument to a layer. When using Sequential models, prefer using an `Input(shape)` object as the first layer in the model instead.\n",
            "  super().__init__(activity_regularizer=activity_regularizer, **kwargs)\n"
          ]
        },
        {
          "output_type": "stream",
          "name": "stdout",
          "text": [
            "\u001b[1m81/81\u001b[0m \u001b[32m━━━━━━━━━━━━━━━━━━━━\u001b[0m\u001b[37m\u001b[0m \u001b[1m0s\u001b[0m 2ms/step\n",
            "Fold 2 — MSE: 1.0585, R2: 0.2193\n"
          ]
        },
        {
          "output_type": "stream",
          "name": "stderr",
          "text": [
            "/usr/local/lib/python3.11/dist-packages/keras/src/layers/core/dense.py:87: UserWarning: Do not pass an `input_shape`/`input_dim` argument to a layer. When using Sequential models, prefer using an `Input(shape)` object as the first layer in the model instead.\n",
            "  super().__init__(activity_regularizer=activity_regularizer, **kwargs)\n"
          ]
        },
        {
          "output_type": "stream",
          "name": "stdout",
          "text": [
            "\u001b[1m81/81\u001b[0m \u001b[32m━━━━━━━━━━━━━━━━━━━━\u001b[0m\u001b[37m\u001b[0m \u001b[1m0s\u001b[0m 2ms/step\n",
            "Fold 3 — MSE: 0.3682, R2: 0.3876\n"
          ]
        },
        {
          "output_type": "stream",
          "name": "stderr",
          "text": [
            "/usr/local/lib/python3.11/dist-packages/keras/src/layers/core/dense.py:87: UserWarning: Do not pass an `input_shape`/`input_dim` argument to a layer. When using Sequential models, prefer using an `Input(shape)` object as the first layer in the model instead.\n",
            "  super().__init__(activity_regularizer=activity_regularizer, **kwargs)\n"
          ]
        },
        {
          "output_type": "stream",
          "name": "stdout",
          "text": [
            "\u001b[1m81/81\u001b[0m \u001b[32m━━━━━━━━━━━━━━━━━━━━\u001b[0m\u001b[37m\u001b[0m \u001b[1m0s\u001b[0m 2ms/step\n",
            "Fold 4 — MSE: 0.4864, R2: 0.2912\n"
          ]
        },
        {
          "output_type": "stream",
          "name": "stderr",
          "text": [
            "/usr/local/lib/python3.11/dist-packages/keras/src/layers/core/dense.py:87: UserWarning: Do not pass an `input_shape`/`input_dim` argument to a layer. When using Sequential models, prefer using an `Input(shape)` object as the first layer in the model instead.\n",
            "  super().__init__(activity_regularizer=activity_regularizer, **kwargs)\n"
          ]
        },
        {
          "output_type": "stream",
          "name": "stdout",
          "text": [
            "\u001b[1m81/81\u001b[0m \u001b[32m━━━━━━━━━━━━━━━━━━━━\u001b[0m\u001b[37m\u001b[0m \u001b[1m0s\u001b[0m 2ms/step\n",
            "Fold 5 — MSE: 1.2248, R2: 0.1971\n",
            "\n",
            "Average CV MSE: 0.7428 ± 0.3364\n",
            "Average CV R2 : 0.2802 ± 0.0677\n"
          ]
        }
      ]
    },
    {
      "cell_type": "markdown",
      "source": [
        "**Random Forest and Gradient Boosting Regressor**"
      ],
      "metadata": {
        "id": "muJ78FEpmuaD"
      }
    },
    {
      "cell_type": "code",
      "source": [
        "from sklearn.ensemble import RandomForestRegressor, GradientBoostingRegressor\n",
        "\n",
        "rf = RandomForestRegressor().fit(X_train_scaled, y_train)\n",
        "gb = GradientBoostingRegressor().fit(X_train_scaled, y_train)\n",
        "\n",
        "y_pred_rf = rf.predict(X_test_scaled)\n",
        "y_pred_gb = gb.predict(X_test_scaled)\n",
        "\n",
        "from sklearn.metrics import mean_squared_error, r2_score\n",
        "\n",
        "print(\"Random Forest Regressor\")\n",
        "print(\"MSE:\", mean_squared_error(y_test, y_pred_rf))\n",
        "print(\"R2:\", r2_score(y_test, y_pred_rf))\n",
        "\n",
        "print(\"\\nGradient Boosting Regressor\")\n",
        "print(\"MSE:\", mean_squared_error(y_test, y_pred_gb))\n",
        "print(\"R2:\", r2_score(y_test, y_pred_gb))"
      ],
      "metadata": {
        "colab": {
          "base_uri": "https://localhost:8080/"
        },
        "id": "CTrfATTq5ijj",
        "outputId": "09870f4a-8a38-44f8-fae7-a0d0f2811d5b"
      },
      "execution_count": null,
      "outputs": [
        {
          "output_type": "stream",
          "name": "stdout",
          "text": [
            "Random Forest Regressor\n",
            "MSE: 0.15445026465775744\n",
            "R2: 0.8137133426625727\n",
            "\n",
            "Gradient Boosting Regressor\n",
            "MSE: 0.38310664976042424\n",
            "R2: 0.5379246688521265\n"
          ]
        }
      ]
    },
    {
      "cell_type": "markdown",
      "source": [
        "**Voting Regressor**"
      ],
      "metadata": {
        "id": "vYpOH34Dm98K"
      }
    },
    {
      "cell_type": "code",
      "source": [
        "from sklearn.ensemble import VotingRegressor\n",
        "from sklearn.ensemble import RandomForestRegressor, GradientBoostingRegressor\n",
        "\n",
        "rf = RandomForestRegressor()\n",
        "gb = GradientBoostingRegressor()\n",
        "\n",
        "\n",
        "ensemble = VotingRegressor(\n",
        "    estimators=[\n",
        "        ('rf', rf),\n",
        "        ('gb', gb)\n",
        "    ]\n",
        ")\n",
        "\n",
        "ensemble.fit(X_train_scaled, y_train)\n",
        "\n",
        "y_pred_ensemble = ensemble.predict(X_test_scaled)\n",
        "\n",
        "from sklearn.metrics import mean_squared_error, r2_score\n",
        "\n",
        "print(\"Voting Regressor\")\n",
        "print(\"MSE:\", mean_squared_error(y_test, y_pred_ensemble))\n",
        "print(\"R2:\", r2_score(y_test, y_pred_ensemble))\n"
      ],
      "metadata": {
        "colab": {
          "base_uri": "https://localhost:8080/"
        },
        "id": "9YMuQjZm5jgT",
        "outputId": "9a851989-1f1d-4262-eb93-8f0a05644e25"
      },
      "execution_count": null,
      "outputs": [
        {
          "output_type": "stream",
          "name": "stdout",
          "text": [
            "Voting Regressor\n",
            "MSE: 0.23609664943518546\n",
            "R2: 0.7152374213841265\n"
          ]
        }
      ]
    }
  ]
}